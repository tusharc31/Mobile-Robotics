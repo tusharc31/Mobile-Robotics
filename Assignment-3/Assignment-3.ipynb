{
 "cells": [
  {
   "cell_type": "markdown",
   "id": "5ff8b80b",
   "metadata": {},
   "source": [
    "# Assignment 3: ICP + Non-linear least squares optimization\n",
    "  \n",
    "  \n",
    "Team Name: Bhagwaan Bharose  \n",
    "Team ID: Team 11  \n",
    "Member Names: Tushar Choudhary (2019111019), Ayush Goyal (2019111026)\n",
    "\n",
    "## Instructions\n",
    "\n",
    "* You are not allowed to use any external libraries (other than ones being imported below).\n",
    "* The deadline for this assignment is **15-09-21** at 11:55pm.\n",
    "* Plagiarism is **strictly prohibited**"
   ]
  },
  {
   "cell_type": "code",
   "execution_count": 2,
   "id": "9ec2ad18",
   "metadata": {},
   "outputs": [],
   "source": [
    "import math\n",
    "import numpy as np\n",
    "import matplotlib.pyplot as plt"
   ]
  },
  {
   "cell_type": "markdown",
   "id": "af075e46",
   "metadata": {},
   "source": [
    "# Non Linear Least Squares Optimization"
   ]
  },
  {
   "cell_type": "markdown",
   "id": "62b067c6",
   "metadata": {},
   "source": [
    "## 1.1 Gradient Descent\n",
    "Implement the gradient descent algorithm using numpy and what you have learned from class to solve for the parameters of a gaussian distribution.\n",
    "To understand the task in more detail and look at a worked through example, checkout the subsequent section. You have to implement the same using just numpy functions. You can refer to [Shubodh's notes](https://www.notion.so/saishubodh/From-linear-algebra-to-non-linear-weighted-least-squares-optimization-13cf17d318be4d45bb8577c4d3ea4a02) on the same to get a better grasp of the concept before implementing it.\n",
    "* Experiment with the number of iterations.\n",
    "* Experiment with the learning rate.\n",
    "* Experiment with the tolerance.\n",
    "\n",
    "Display your results using matplotlib by plotting graphs for \n",
    "* The cost function value vs the number of iterations\n",
    "* The Ground Truth data values and the predicted data values.\n",
    "\n",
    "Your plots are expected to contain information similar to the plot below:\n",
    "\n",
    "<!-- <figure> -->\n",
    "<img src='./helpers/sample_plt.png' alt=drawing width=500 height=600>\n",
    "\n",
    "<!-- <figcaption align='center'><b>A sample plot, you can use your own plotting template</b></figcaption>\n",
    "</figure> -->\n",
    "<!-- head over to [this page](https://saishubodh.notion.site/Non-Linear-Least-Squares-Solved-example-Computing-Jacobian-for-a-Gaussian-Gradient-Descent-7fd11ebfee034f8ca89cc78c8f1d24d9) -->"
   ]
  },
  {
   "cell_type": "markdown",
   "id": "c5b0c194",
   "metadata": {},
   "source": [
    "## Worked out Example using Gradient Descent\n",
    "\n",
    "A Gaussian distribution parametrized by $a,m,s$ is given by:\n",
    "\n",
    "$$ y(x;a,m,s)=a \\exp \\left(\\frac{-(x-m)^{2}}{2 s^{2}}\\right) \\tag{1}$$\n",
    "\n",
    "### Jacobian of Gaussian\n",
    "\n",
    "$$\\mathbf{J}_y=\\left[\\frac{\\partial y}{\\partial a} \\quad \\frac{\\partial y}{\\partial m} \\quad \\frac{\\partial y}{\\partial s}\\right] \\\\\n",
    "= \\left[ \\exp \\left(\\frac{-(x-m)^{2}}{2 s^{2}}\\right); \\frac{a (x-m)}{s^2} \\exp\\left(\\frac{-(x-m)^{2}}{2 s^{2}}\\right);  \\frac{a (x-m)^2}{s^3}\\exp \\left(\\frac{-(x-m)^{2}}{2 s^{2}}\\right)\\right]$$\n",
    "\n",
    "## Problem at hand\n",
    "\n",
    "> Given a set of observations $y_{obs}$ and $x_{obs}$ we want to find the optimum parameters $a,m,s$ which best fit our observations given an initial estimate.\n",
    "\n",
    "Our observations would generally be erroneous and given to us, but for the sake of knowing how good our model is performing, let us generate the observations ourselves by assuming the actual \"actual\" parameter values as $a_{gt}=10; m_{gt} =0; s_{gt} =20$ ($gt$ stands for ground truth). We will try to estimate these values based on our observations and let us see how close we get to \"actual\" parameters. Note that in reality we obviously don't have these parameters as that is exactly what we want to estimate in the first place. So let us consider the following setup, we have:\n",
    "\n",
    "- Number of observations, $num\\_obs = 50$\n",
    "- Our 50 set of observations would be\n",
    "    - $x_{obs} = np.linspace(-25,25, num\\_obs)$\n",
    "    - $y_{obs} = y(x_{obs};a_{gt},m_{gt},s_{gt})$  from $(1)$\n",
    "\n",
    "Reference:\n",
    "\n",
    "→[linspace](https://numpy.org/doc/stable/reference/generated/numpy.linspace.html)\n",
    "\n",
    "- Say we are given initial estimate as:\n",
    "\n",
    "    $$a_0=10; \\quad m_0=13; \\quad s_0=19.12$$\n",
    "\n",
    "### Residual and error to be minimized\n",
    "\n",
    "Okay, now we have set of observations and an initial estimate of parameters. We would now want to minimize an error that would give us optimum parameters.\n",
    "\n",
    "The $residual$ would be given by\n",
    "\n",
    "$$ r(a,m,s) = \\left[ a \\exp \\left(\\frac{-(x_{obs}-m)^{2}}{2 s^{2}}\\right) - y_{obs}\\ \\right]$$\n",
    "\n",
    "where we'd want to minimize $\\|r\\|^2$. Note that $r$ is a non-linear function in $(a,m,s)$.\n",
    "\n",
    "Also, note that since $y$ (and $x$) are observations in the above equation, after simplification, we get $\\mathbf{J}_r = \\mathbf{J}_y$ [above](https://www.notion.so/c9e6f71b67a44bb8b366df2fccfc12d0) (since $y_{obs}$ is a constant).\n",
    "\n",
    "Let us apply Gradient Descent method for minimization here. From [Table I](https://www.notion.so/From-linear-algebra-to-non-linear-weighted-least-squares-optimization-13cf17d318be4d45bb8577c4d3ea4a02),  \n",
    "\n",
    "$$\\Delta \\mathbf{k} = - \\alpha \\mathbf{J_F} = -\\alpha \\mathbf{J}_r^{\\top} {r}(\\mathbf{k})$$\n",
    "\n",
    "Note that $\\mathbf{J_F}$ is the Jacobian of \"non-linear least squares\" function $\\mathbf{F}$ while $\\mathbf{J}_r$ is the Jacobian of the residual. \n",
    "\n",
    "where $\\mathbf{k}$ is $[a,m,s]^T$. \n",
    "\n",
    "- Some hyperparameters:\n",
    "    - Learning rate, $lr = 0.01$\n",
    "    - Maximum number of iterations, $num\\_iter=200$\n",
    "    - Tolerance, $tol = 1e-15$\n",
    "\n",
    "## Solution for 1 iteration\n",
    "\n",
    "To see how each step looks like, let us solve for 1 iteration and for simpler calculations, assume we have 3 observations, \n",
    "\n",
    "$$x_{obs}= \\left[ -25, 0, 25 \\right]^T, y_{obs} = \\left[  4.5783, 10, 4.5783 \\right]^T. $$\n",
    "\n",
    "With our initial estimate as $\\mathbf{k_0} = [a_0=10, \\quad m_0=13, \\quad s_0=19.12]^T$, the residual would be \n",
    "\n",
    "$$ r(a_0,m_0,s_0) = \\left[ a_0 \\exp \\left(\\frac{-(x_{obs}-m_0)^{2}}{2 s_0^{2}}\\right) - y_{obs}\\ \\right]$$\n",
    "\n",
    "Therefore, $r=[-3.19068466, -2.0637411 , 3.63398058]^T$.\n",
    "\n",
    "### Gradient Computation\n",
    "\n",
    "Gradient, $\\mathbf{J_F}$=\n",
    "\n",
    "$$\\mathbf{J_r}^{\\top} \\mathbf{r}(\\mathbf{k})$$\n",
    "\n",
    "We have calculated residual already [above](https://www.notion.so/c9e6f71b67a44bb8b366df2fccfc12d0), let us calculate the Jacobian $\\mathbf{J_r}$.\n",
    "\n",
    "$$\\mathbf{J}_r\n",
    "= \\left[ \\exp \\left(\\frac{-(x-m)^{2}}{2 s^{2}}\\right); \\frac{a (x-m)}{s^2} \\exp\\left(\\frac{-(x-m)^{2}}{2 s^{2}}\\right);  \\frac{a (x-m)^2}{s^3}\\exp \\left(\\frac{-(x-m)^{2}}{2 s^{2}}\\right)\\right]$$\n",
    "\n",
    "$$\\implies \\mathbf{J_r} = \\left[ \\begin{array}{rrr}0.1387649 & 0.79362589, & 0.82123142 \\\\-0.14424057 & -0.28221715  & 0.26956967 \\\\0.28667059 & 0.19188405, & 0.16918599\\end{array}\\right]$$\n",
    "\n",
    "So ,\n",
    "\n",
    "$$\\mathbf{J_F} = \\mathbf{J_r}^{\\top} \\mathbf{r}(\\mathbf{k})$$\n",
    "\n",
    "$$\\mathbf{r}(\\mathbf{k}) =  \\left[ \\begin{array}{r}-3.19068466 \\\\ -2.0637411 \\\\ 3.63398058 \\end{array} \\right]$$\n",
    "\n",
    "$$ \\begin{aligned} \\implies \\mathbf{J_F} = \\left[ \\begin{array}{r} 0.89667553 \\\\ -1.25248392 \\\\-2.56179392\\end{array} \\right] \\end{aligned}$$\n",
    "\n",
    "### Update step\n",
    "\n",
    "$$\n",
    "\\Delta \\mathbf{k} = - \\alpha \\mathbf{J_F} \\\\\n",
    "\\mathbf{k}^{t+1} = \\mathbf{k}^t + \\Delta \\mathbf{k}\n",
    "$$\n",
    "\n",
    "Here, $\\alpha$ our learning rate is 0.01.\n",
    "\n",
    "$$\n",
    "\\Delta \\mathbf{k} = - \\alpha\\times\\left[ \\begin{array}{r} \n",
    "0.89667553 \\\\ -1.25248392 \\\\-2.56179392\n",
    "\\end{array} \\right] = \\left[ \\begin{array}{r}\n",
    "-0.00896676 \\\\ 0.01252484 \\\\0.02561794\n",
    "\\end{array}\\right]\n",
    "$$\n",
    "\n",
    "$$\n",
    "\\mathbf{k}^{1} = \\mathbf{k}^{0} + \\Delta \\mathbf{k} \\\\ \\left[\\begin{array}{r} 10 \\\\ 13 \\\\ 19.12 \\end{array}\\right] + \\left[\\begin{array}{c} 9.99103324 \\\\ 13.01252484 \\\\ 19.14561794 \\end{array} \\right]\n",
    "$$\n",
    "\n",
    "With just one iteration with very few observations, we can see that we have gotten *slightly* more closer to our GT parameter  $a_{gt}=10; m_{gt} =0; s_{gt} =20$. Our initial estimate was $[a_0=10, \\quad m_0=13, \\quad s_0=19.12]$. However, the above might not be noticeable enough: Hence you need to code it for more iterations and convince yourself as follows:"
   ]
  },
  {
   "cell_type": "code",
   "execution_count": 107,
   "id": "2c5e14bd",
   "metadata": {},
   "outputs": [],
   "source": [
    "from helpers.func import make_gaussian\n",
    "\n",
    "# Hyper-parameters\n",
    "num_iter = 10\n",
    "alpha = 0.001\n",
    "tol = 0.001\n",
    "\n",
    "# The cost function value vs the number of iterations\n",
    "# The Ground Truth data values and the predicted data values.\n",
    "\n",
    "    \n",
    "# 𝑥𝑜𝑏𝑠=𝑛𝑝.𝑙𝑖𝑛𝑠𝑝𝑎𝑐𝑒(−25,25,𝑛𝑢𝑚_𝑜𝑏𝑠)\n",
    "# 𝑦𝑜𝑏𝑠=𝑦(𝑥𝑜𝑏𝑠;𝑎𝑔𝑡,𝑚𝑔𝑡,𝑠𝑔𝑡)\n",
    "# from (1)"
   ]
  },
  {
   "cell_type": "markdown",
   "id": "25f4819d",
   "metadata": {},
   "source": [
    "## Generating data"
   ]
  },
  {
   "cell_type": "code",
   "execution_count": 201,
   "id": "2ed5487d",
   "metadata": {},
   "outputs": [
    {
     "data": {
      "image/png": "[encoded data removed]",
      "text/plain": [
       "<Figure size 640x480 with 1 Axes>"
      ]
     },
     "metadata": {},
     "output_type": "display_data"
    }
   ],
   "source": [
    "xobs = np.linspace(-25, 25, 50)\n",
    "yobs = []\n",
    "yest = []\n",
    "\n",
    "plt.clf()\n",
    "\n",
    "yobs = make_gaussian(xobs, 10, 0, 20)\n",
    "yest = make_gaussian(xobs, 10, 13, 19.12)\n",
    "\n",
    "plt.scatter(xobs, yobs)\n",
    "plt.scatter(xobs, yest)\n",
    "plt.xlabel(\"X\")\n",
    "plt.ylabel(\"Y\")\n",
    "plt.legend(['Ground Truth', 'Initial Estimate'])\n",
    "plt.show()"
   ]
  },
  {
   "cell_type": "markdown",
   "id": "ba81d8de",
   "metadata": {},
   "source": [
    "## Defining the partial derivatives"
   ]
  },
  {
   "cell_type": "code",
   "execution_count": 109,
   "id": "35aaad27",
   "metadata": {},
   "outputs": [],
   "source": [
    "def a_der(x, a, mean, std):\n",
    "    y = make_gaussian(x, a, mean, std)/a\n",
    "    return y\n",
    "\n",
    "def m_der(x, a, mean, std):\n",
    "    y = make_gaussian(x, a, mean, std) * ((x-mean)/(std**2))\n",
    "    return y\n",
    "\n",
    "def s_der(x, a, mean, std):\n",
    "    y = make_gaussian(x, a, mean, std) * (-1/std) + make_gaussian(x, a, mean, std) * ((x-mean)**2/(std**3))\n",
    "    return y\n",
    "\n",
    "def jacobian(x, a, m, s):\n",
    "    return np.c_[a_der(x, a, m, s), m_der(x, a, m, s), s_der(x, a, m, s)]\n",
    "    \n",
    "def residual(x, y, a, m, s):\n",
    "    return make_gaussian(x, a, m, s) - y"
   ]
  },
  {
   "cell_type": "markdown",
   "id": "33e795f5",
   "metadata": {},
   "source": [
    "## Function for Gradient descent"
   ]
  },
  {
   "cell_type": "code",
   "execution_count": 202,
   "id": "5f1a6291",
   "metadata": {},
   "outputs": [],
   "source": [
    "def gradient_descent(xobs, yobs, a, m, s):\n",
    "    \n",
    "    weights = np.array([a, m, s], dtype=np.double)\n",
    "    \n",
    "    for _ in range(5000):\n",
    "        J = jacobian(xobs, weights[0], weights[1], weights[2])\n",
    "        R = residual(xobs, yobs, weights[0], weights[1], weights[2])\n",
    "        weights = weights - 10 * np.dot(J.T, R)\n",
    "        \n",
    "    return weights[0], weights[1], weights[2]"
   ]
  },
  {
   "cell_type": "code",
   "execution_count": 203,
   "id": "08130778",
   "metadata": {
    "scrolled": false
   },
   "outputs": [
    {
     "data": {
      "image/png": "[encoded data removed]",
      "text/plain": [
       "<Figure size 640x480 with 1 Axes>"
      ]
     },
     "metadata": {},
     "output_type": "display_data"
    }
   ],
   "source": [
    "a, m, s = gradient_descent(xobs, yobs, 10, 13, 19.12)\n",
    "\n",
    "plt.clf()\n",
    "\n",
    "yobs = make_gaussian(xobs, 10, 0, 20)\n",
    "yest = make_gaussian(xobs, a, m, s)\n",
    "\n",
    "plt.scatter(xobs, yobs)\n",
    "plt.scatter(xobs, yest)\n",
    "plt.xlabel(\"X\")\n",
    "plt.ylabel(\"Y\")\n",
    "plt.legend(['Ground Truth', 'Initial Estimate'])\n",
    "plt.show()"
   ]
  },
  {
   "cell_type": "markdown",
   "id": "08d29a30",
   "metadata": {},
   "source": [
    "## 1.2: Another Non-Linear function\n",
    "Now that you've got the hang of computing the jacobian matrix for a non-linear function via the aid of an example, try to compute the jacobian of a secondary gaussian function by carrying out steps similar to what has been shown above. The function is plotted below:\n",
    "<img src='./helpers/non_linear.png' alt=drawing width=500 height=600>\n",
    "Using the computed jacobian, optimise for the four parameters using gradient descent, where the parameters to be estimated are: \n",
    "\n",
    "$p_1$ = 2,  $p_2$ = 8,  $p_3$ = 4,  $p_4$ = 8. \n",
    "\n",
    "Do this for $x_{obs} = np.linspace(-20,30, num\\_obs)$,\n",
    "where $num\\_obs$ is 50.\n",
    "\n"
   ]
  },
  {
   "cell_type": "code",
   "execution_count": 7,
   "id": "997f93c5",
   "metadata": {},
   "outputs": [],
   "source": [
    "from helpers.func import make_non_linear"
   ]
  },
  {
   "cell_type": "markdown",
   "id": "817fc608",
   "metadata": {},
   "source": [
    "## 1.3: Different Optimizers\n",
    "\n",
    "Replace gradient descent with Gauss-Newton and Levenberg Marquardt algorithms and repeat question 1.1. \n",
    "\n",
    "To quickly recap, Gauss-Newton and Levenberg Marquardt are alternate update rules to the standard gradient descent. Gauss Newton updates work as:\n",
    "\n",
    "$$\\delta x = -(J^TJ)^{-1}J^Tf(x)$$\n",
    "\n",
    "Levenberg Marquardt lies somewhere between Gauss Newton and Gradient Descent algorithms by blending the two formulations. As a result, when at a steep cliff, LM takes small steps to avoid overshooting, and when at a gentle slope, LM takes bigger steps:\n",
    "\n",
    "\n",
    "$$\\delta x = -(J^TJ + \\lambda I)^{-1}J^Tf(x)$$"
   ]
  },
  {
   "cell_type": "markdown",
   "id": "ce3fbf4f",
   "metadata": {},
   "source": [
    "**Questions**\n",
    "1. How does the choice of initial estimate and learning rate affect convergence? Observations and analysis from repeated runs with modified hyperparameters will suffice.\n",
    "2. Do you notice any difference between the three optimizers? Why do you think that is? (If you are unable to see a clear trend, what would you expect in general based on what you know about them)"
   ]
  },
  {
   "cell_type": "code",
   "execution_count": 204,
   "id": "85bfdceb",
   "metadata": {},
   "outputs": [],
   "source": [
    "def gauss_newton(xobs, yobs, a, m, s):\n",
    "    \n",
    "    weights = np.array([a, m, s], dtype=np.double)\n",
    "    \n",
    "    for _ in range(10):\n",
    "        J = jacobian(xobs, weights[0], weights[1], weights[2])\n",
    "        R = residual(xobs, yobs, weights[0], weights[1], weights[2])\n",
    "        weights = weights - np.linalg.pinv(J.T @ J) @ J.T @ R\n",
    "        \n",
    "    return weights[0], weights[1], weights[2]"
   ]
  },
  {
   "cell_type": "code",
   "execution_count": 205,
   "id": "ead0e719",
   "metadata": {},
   "outputs": [
    {
     "data": {
      "image/png": "[encoded data removed]",
      "text/plain": [
       "<Figure size 640x480 with 1 Axes>"
      ]
     },
     "metadata": {},
     "output_type": "display_data"
    }
   ],
   "source": [
    "a, m, s = gauss_newton(xobs, yobs, 10, 13, 19.12)\n",
    "\n",
    "plt.clf()\n",
    "\n",
    "yobs = make_gaussian(xobs, 10, 0, 20)\n",
    "yest = make_gaussian(xobs, a, m, s)\n",
    "\n",
    "plt.scatter(xobs, yobs)\n",
    "plt.scatter(xobs, yest)\n",
    "plt.xlabel(\"X\")\n",
    "plt.ylabel(\"Y\")\n",
    "plt.legend(['Ground Truth', 'Initial Estimate'])\n",
    "plt.show()"
   ]
  },
  {
   "cell_type": "code",
   "execution_count": 206,
   "id": "fc78d85c",
   "metadata": {},
   "outputs": [],
   "source": [
    "def levenberg_marquardt(xobs, yobs, a, m, s):\n",
    "    \n",
    "    weights = np.array([a, m, s], dtype=np.double)\n",
    "    lmda = 1\n",
    "    errors = [np.linalg.norm(residual(xobs, yobs, weights[0], weights[1], weights[2])) ** 2, ]\n",
    "    \n",
    "    for _ in range(10):\n",
    "        J = jacobian(xobs, weights[0], weights[1], weights[2])\n",
    "        R = residual(xobs, yobs, weights[0], weights[1], weights[2])\n",
    "        new_error = np.linalg.norm(R) ** 2\n",
    "        weights = weights - np.linalg.pinv((J.T @ J) + (lmda * np.eye(J.shape[1]))) @ J.T @ R\n",
    "        \n",
    "        if len(errors) > 0:\n",
    "            if new_error > errors[-1]:\n",
    "                lmda = lmda * 2\n",
    "            else:\n",
    "                lmda = lmda / 3\n",
    "        errors.append(new_error)\n",
    "        \n",
    "    return weights[0], weights[1], weights[2]"
   ]
  },
  {
   "cell_type": "code",
   "execution_count": 207,
   "id": "bb6aba3a",
   "metadata": {},
   "outputs": [
    {
     "data": {
      "image/png": "[encoded data removed]",
      "text/plain": [
       "<Figure size 640x480 with 1 Axes>"
      ]
     },
     "metadata": {},
     "output_type": "display_data"
    }
   ],
   "source": [
    "a, m, s = levenberg_marquardt(xobs, yobs, 10, 13, 19.12)\n",
    "\n",
    "plt.clf()\n",
    "\n",
    "yobs = make_gaussian(xobs, 10, 0, 20)\n",
    "yest = make_gaussian(xobs, a, m, s)\n",
    "plt.scatter(xobs, yobs)\n",
    "plt.scatter(xobs, yest)\n",
    "plt.xlabel(\"X\")\n",
    "plt.ylabel(\"Y\")\n",
    "plt.legend(['Ground Truth', 'Initial Estimate'])\n",
    "plt.show()"
   ]
  },
  {
   "cell_type": "markdown",
   "id": "17447c53",
   "metadata": {},
   "source": [
    "# 2. Iterative Closest Point\n",
    "\n",
    "In this subsection, we will code the Iterative Closest Point algorithm to find the alignment between two point clouds without known correspondences. The point cloud that you will be using is the same as the one that you used in Assignment 1.\n",
    "\n",
    "## 2.1: Procrustes alignment\n",
    "\n",
    "1. Write a function that takes two point clouds as input wherein the corresponding points between the two point clouds are located at the same index and returns the transformation matrix between them.\n",
    "2. Use the bunny point cloud and perform the procrustes alignment between the two bunnies. Compute the absolute alignment error after aligning the two bunnies.\n",
    "3. Make sure your code is modular as we will use this function in the next sub-part.\n",
    "4. Prove mathematically why the Procrustes alignment gives the best aligning transform between point clouds with known correspondences.\n"
   ]
  },
  {
   "cell_type": "code",
   "execution_count": 218,
   "id": "bdccd4dc",
   "metadata": {
    "scrolled": false
   },
   "outputs": [],
   "source": [
    "import numpy as np \n",
    "import math\n",
    "import open3d as o3d\n",
    "\n",
    "pcd = o3d.io.read_point_cloud(\"./bunny.pcd\")\n",
    "X = np.asarray(pcd.points)  \n",
    "X = X.T\n",
    "\n",
    "# Tuning the PCD a bit away form the origin \n",
    "X[0] = X[0] + 0.5\n",
    "X[1] = X[1] + 0.5\n",
    "X[2] = X[2] + 0.5\n",
    "\n",
    "# Downsampling 25 times\n",
    "X = X[:,::25]\n",
    "\n",
    "# Getting the second point cloud and shuffling all the points\n",
    "P = X\n",
    "\n",
    "# Translating the second point cloud\n",
    "P[0,:] = P[0,:] + .25\n",
    "P[1,:] = P[1,:] + .25\n",
    "P[2,:] = P[2,:] + .25\n",
    "\n",
    "# Rotating the second point cloud\n",
    "theta1 = ( 90.0 / 360) * 2 * np.pi\n",
    "rot1 = np.array([[math.cos(theta1), -math.sin(theta1),0],\n",
    "                 [math.sin(theta1),  math.cos(theta1),0],\n",
    "               [0,0,1]])\n",
    "P1 = np.dot(rot1, P)\n",
    "\n",
    "# Visualzing the bunnies\n",
    "pcd = o3d.geometry.PointCloud()\n",
    "pcd1 = o3d.geometry.PointCloud()\n",
    "pcd.points = o3d.utility.Vector3dVector(X.T)\n",
    "pcd.paint_uniform_color([1, 0, 0])\n",
    "pcd1.points = o3d.utility.Vector3dVector(P1.T)\n",
    "pcd1.paint_uniform_color([0, 0, 1])\n",
    "o3d.visualization.draw_geometries([pcd,pcd1],)"
   ]
  },
  {
   "cell_type": "code",
   "execution_count": 219,
   "id": "c2090326",
   "metadata": {},
   "outputs": [],
   "source": [
    "def Procrustes(X, P):\n",
    "    \n",
    "    num_iter = 3\n",
    "    P0 = P  \n",
    "    n = X.shape[1]\n",
    "    dim = X.shape[0]\n",
    "    T = np.identity(4)\n",
    "    \n",
    "    error = np.sqrt(np.sum(np.square(X-P)) / X.shape[1])\n",
    "    print('Initial error: '+str(error))\n",
    "    \n",
    "    for i in range(num_iter):\n",
    "        \n",
    "        mean_pc1 = np.mean(X, axis = 1, keepdims = True)\n",
    "        mean_pc2 = np.mean(P, axis = 1, keepdims = True)\n",
    "\n",
    "        W = np.zeros((3,3))\n",
    "\n",
    "        for ind in range(n):\n",
    "            pc1 = X[:, ind]\n",
    "            pc1 = pc1.reshape(3,1)\n",
    "            arr1 = pc1 - mean_pc1\n",
    "            pc2 = P[:, ind]\n",
    "            pc2 = pc2.reshape(3,1)\n",
    "            arr2 = pc2 - mean_pc2\n",
    "            W = W+np.dot(arr1,arr2.T)\n",
    "\n",
    "        W = W/n\n",
    "        U, S, Vt = np.linalg.svd(W)\n",
    "        \n",
    "        # Rotation matrix\n",
    "        R = np.dot(U,Vt)\n",
    "\n",
    "        if np.linalg.det(R) < 0:\n",
    "            print(\"lol\")\n",
    "            Vt[dim - 1, :]*=-1\n",
    "            R = U @ Vt\n",
    "        \n",
    "        # Translation matrix\n",
    "        t = mean_pc1 - np.dot( R , mean_pc2)\n",
    "        \n",
    "        T_itr = R\n",
    "        T_itr = np.append(T_itr, t, axis=1)\n",
    "        T_itr = np.vstack([T_itr, [0, 0, 0, 1]])\n",
    "        T = np.dot(T_itr, T)\n",
    "        P = np.dot(R, P) + t\n",
    "        \n",
    "        error = np.sqrt(np.sum(np.square(X-P)) / X.shape[1])\n",
    "        print('Error after iteration '+str(i+1)+ ': '+str(error))\n",
    "\n",
    "    return T"
   ]
  },
  {
   "cell_type": "code",
   "execution_count": 220,
   "id": "10f2726f",
   "metadata": {
    "scrolled": false
   },
   "outputs": [
    {
     "name": "stdout",
     "output_type": "stream",
     "text": [
      "Initial error: 1.48421605809171\n",
      "Error after iteration 1: 1.2801908852222935e-16\n",
      "Error after iteration 2: 1.63166693365155e-16\n",
      "Error after iteration 3: 1.9211788616152298e-16\n"
     ]
    }
   ],
   "source": [
    "# ggez = P1\n",
    "T = Procrustes(X,P1)\n",
    "\n",
    "otot = np.ones(P1.shape[1])\n",
    "P1 = np.vstack([P1, otot])\n",
    "P1 = np.dot(T, P1)\n",
    "P1 = P1[:3]"
   ]
  },
  {
   "cell_type": "code",
   "execution_count": 221,
   "id": "23321193",
   "metadata": {},
   "outputs": [],
   "source": [
    "pcd = o3d.geometry.PointCloud()\n",
    "pcd.points = o3d.utility.Vector3dVector(X.T)\n",
    "pcd.paint_uniform_color([1, 0, 0])\n",
    "pcd1.points = o3d.utility.Vector3dVector(P1.T)\n",
    "pcd1.paint_uniform_color([0, 0, 1])\n",
    "o3d.visualization.draw_geometries([pcd,pcd1],)"
   ]
  },
  {
   "cell_type": "markdown",
   "id": "98699f13",
   "metadata": {},
   "source": [
    "## 2.2: ICP alignment\n",
    "\n",
    "1. Write a function that takes two point clouds as input without known correspondences and perform the iterative closest point algorithm.\n",
    "2. Perform the ICP alignment between the two bunnies and plot their individual coordinate frames as done in class.\n",
    "3. Does ICP always give the correct alignment? Why or Why not?\n",
    "4. What are other variants of ICP and why are they helpful (you can look at point to plane ICP)?"
   ]
  },
  {
   "cell_type": "code",
   "execution_count": 54,
   "id": "78368304",
   "metadata": {},
   "outputs": [],
   "source": [
    "import numpy as np \n",
    "import math\n",
    "import open3d as o3d\n",
    "\n",
    "pcd = o3d.io.read_point_cloud(\"./bunny.pcd\")\n",
    "X = np.asarray(pcd.points)  \n",
    "X = X.T\n",
    "\n",
    "# Tuning the PCD a bit away form the origin \n",
    "X[0] = X[0] + 0.5\n",
    "X[1] = X[1] + 0.5\n",
    "X[2] = X[2] + 0.5\n",
    "\n",
    "# Downsampling 25 times\n",
    "X = X[:,::25]\n",
    "\n",
    "# Getting the second point cloud and shuffling all the points\n",
    "P = X\n",
    "P = P.T\n",
    "np.random.shuffle(P)\n",
    "P = P.T\n",
    "\n",
    "# Translating the second point cloud\n",
    "P[0,:] = P[0,:] + .25\n",
    "P[1,:] = P[1,:] + .25\n",
    "P[2,:] = P[2,:] + .25\n",
    "\n",
    "# Rotating the second point cloud\n",
    "theta1 = ( 90.0 / 360) * 2 * np.pi\n",
    "rot1 = np.array([[math.cos(theta1), -math.sin(theta1),0],\n",
    "                 [math.sin(theta1),  math.cos(theta1),0],\n",
    "               [0,0,1]])\n",
    "P1 = np.dot(rot1, P)\n",
    "\n",
    "# Visualzing the bunnies\n",
    "pcd = o3d.geometry.PointCloud()\n",
    "pcd1 = o3d.geometry.PointCloud()\n",
    "pcd.points = o3d.utility.Vector3dVector(X.T)\n",
    "pcd.paint_uniform_color([1, 0, 0])\n",
    "pcd1.points = o3d.utility.Vector3dVector(P1.T)\n",
    "pcd1.paint_uniform_color([0, 0, 1])\n",
    "o3d.visualization.draw_geometries([pcd,pcd1],)"
   ]
  },
  {
   "cell_type": "code",
   "execution_count": 58,
   "id": "5fef7d81",
   "metadata": {
    "scrolled": false
   },
   "outputs": [],
   "source": [
    "# # This is a brute force implementation for nearest neightbour\n",
    "# def nearest_neighbour(X,P):\n",
    "#     corres = []\n",
    "#     n = P.shape[1]    \n",
    "#     for ind in range(n):\n",
    "#         pc1 = P[:, ind]\n",
    "#         pc1 = pc1.reshape(3,1) \n",
    "#         dist = 9999999999999 \n",
    "#         idx = -1\n",
    "#         for i in range(n):           \n",
    "#             pc2 = X[:, i]\n",
    "#             pc2 = pc2.reshape(3,1)\n",
    "#             if np.sum(np.square(pc1-pc2)) < dist:\n",
    "#                 dist = np.sum(np.square(pc1-pc2))\n",
    "#                 idx = i\n",
    "#         corres.append(idx)\n",
    "#     return corres\n",
    "           \n",
    "# This is a KD trees implementation for nearest neighbour\n",
    "from sklearn.neighbors import KDTree\n",
    "tree = KDTree(X.T, leaf_size=2)   \n",
    "\n",
    "def nearest_neighbour(P):\n",
    "    corres = []\n",
    "    n = P.shape[1]    \n",
    "    for ind in range(n):\n",
    "        dist, ind = tree.query([P.T[ind,:]], k=1)\n",
    "        corres.append(ind[0])\n",
    "    return corres"
   ]
  },
  {
   "cell_type": "code",
   "execution_count": 92,
   "id": "11a5d7dd",
   "metadata": {},
   "outputs": [],
   "source": [
    "def ICP(X, P):\n",
    "    itert = 0\n",
    "    run  = True\n",
    "    last_error = np.float64(10000000000.000)\n",
    "    num_iter = 1000\n",
    "    P0 = P  \n",
    "    n = X.shape[1]\n",
    "    dim = X.shape[0]\n",
    "    \n",
    "    while(run):\n",
    "        itert+=1\n",
    "        \n",
    "        error = np.sqrt(np.sum(np.square(X-P)) / X.shape[1])\n",
    "        print('Iteration No.: '+str(itert), '   Current error: '+str(error.round(5)), '   Last error: '+str(last_error.round(5)))\n",
    "        last_error = error\n",
    "        \n",
    "        if(itert == num_iter):\n",
    "            run = False\n",
    "            print(\"iterations over naturally\")\n",
    "\n",
    "        if(error < 0.00001 and abs(last_error - error) < 0.00000001):\n",
    "            run = False\n",
    "            print(\"iterations over\")\n",
    "            \n",
    "        mean_pc1 = np.mean(X, axis = 1, keepdims = True)\n",
    "        mean_pc2 = np.mean(P, axis = 1, keepdims = True)\n",
    "\n",
    "        W = np.zeros((3,3))\n",
    "        cor = nearest_neighbour(P)\n",
    "        cor = np.array(cor)\n",
    "        cor  = cor.astype(int)\n",
    "        for ind in range(n):\n",
    "            pc1 = X[:, cor[ind]]\n",
    "            pc1 = pc1.reshape(3,1)\n",
    "            arr1 = pc1 - mean_pc1\n",
    "            pc2 = P[:, ind]\n",
    "            pc2 = pc2.reshape(3,1)\n",
    "            arr2 = pc2 - mean_pc2\n",
    "            W = W+np.dot(arr1,arr2.T)\n",
    "\n",
    "        W = W/n\n",
    "        U, S, Vt = np.linalg.svd(W)\n",
    "        \n",
    "        # Rotation matrix\n",
    "        R = np.dot(U,Vt)\n",
    "        if np.linalg.det(R) < 0:\n",
    "            Vt[dim - 1, :]*=-1\n",
    "            R = U @ Vt\n",
    "            \n",
    "        # Translation matrix\n",
    "        t = mean_pc1 - np.dot( R , mean_pc2)\n",
    "        \n",
    "        P = np.dot(R, P) + t #Uncomment this: transforming my current point cloud towards initial point cloud\n",
    "\n",
    "    return cor , P"
   ]
  },
  {
   "cell_type": "code",
   "execution_count": 93,
   "id": "3c09f519",
   "metadata": {
    "scrolled": false
   },
   "outputs": [
    {
     "name": "stdout",
     "output_type": "stream",
     "text": [
      "Iteration No.: 1    Current error: 1.48422    Last error: 10000000000.0\n",
      "Iteration No.: 2    Current error: 0.08449    Last error: 1.48422\n",
      "Iteration No.: 3    Current error: 0.08209    Last error: 0.08449\n",
      "Iteration No.: 4    Current error: 0.07989    Last error: 0.08209\n",
      "Iteration No.: 5    Current error: 0.07807    Last error: 0.07989\n",
      "Iteration No.: 6    Current error: 0.0766    Last error: 0.07807\n",
      "Iteration No.: 7    Current error: 0.07523    Last error: 0.0766\n",
      "Iteration No.: 8    Current error: 0.07415    Last error: 0.07523\n",
      "Iteration No.: 9    Current error: 0.07318    Last error: 0.07415\n",
      "Iteration No.: 10    Current error: 0.07237    Last error: 0.07318\n",
      "Iteration No.: 11    Current error: 0.07158    Last error: 0.07237\n",
      "Iteration No.: 12    Current error: 0.07086    Last error: 0.07158\n",
      "Iteration No.: 13    Current error: 0.07013    Last error: 0.07086\n",
      "Iteration No.: 14    Current error: 0.06945    Last error: 0.07013\n",
      "Iteration No.: 15    Current error: 0.0687    Last error: 0.06945\n",
      "Iteration No.: 16    Current error: 0.06779    Last error: 0.0687\n",
      "Iteration No.: 17    Current error: 0.06679    Last error: 0.06779\n",
      "Iteration No.: 18    Current error: 0.06569    Last error: 0.06679\n",
      "Iteration No.: 19    Current error: 0.06428    Last error: 0.06569\n",
      "Iteration No.: 20    Current error: 0.06268    Last error: 0.06428\n",
      "Iteration No.: 21    Current error: 0.06103    Last error: 0.06268\n",
      "Iteration No.: 22    Current error: 0.05961    Last error: 0.06103\n",
      "Iteration No.: 23    Current error: 0.05828    Last error: 0.05961\n",
      "Iteration No.: 24    Current error: 0.05681    Last error: 0.05828\n",
      "Iteration No.: 25    Current error: 0.05522    Last error: 0.05681\n",
      "Iteration No.: 26    Current error: 0.05365    Last error: 0.05522\n",
      "Iteration No.: 27    Current error: 0.05192    Last error: 0.05365\n",
      "Iteration No.: 28    Current error: 0.05044    Last error: 0.05192\n",
      "Iteration No.: 29    Current error: 0.0484    Last error: 0.05044\n",
      "Iteration No.: 30    Current error: 0.04628    Last error: 0.0484\n",
      "Iteration No.: 31    Current error: 0.04392    Last error: 0.04628\n",
      "Iteration No.: 32    Current error: 0.04153    Last error: 0.04392\n",
      "Iteration No.: 33    Current error: 0.03931    Last error: 0.04153\n",
      "Iteration No.: 34    Current error: 0.03718    Last error: 0.03931\n",
      "Iteration No.: 35    Current error: 0.03482    Last error: 0.03718\n",
      "Iteration No.: 36    Current error: 0.03245    Last error: 0.03482\n",
      "Iteration No.: 37    Current error: 0.03027    Last error: 0.03245\n",
      "Iteration No.: 38    Current error: 0.02792    Last error: 0.03027\n",
      "Iteration No.: 39    Current error: 0.02552    Last error: 0.02792\n",
      "Iteration No.: 40    Current error: 0.0233    Last error: 0.02552\n",
      "Iteration No.: 41    Current error: 0.02125    Last error: 0.0233\n",
      "Iteration No.: 42    Current error: 0.01922    Last error: 0.02125\n",
      "Iteration No.: 43    Current error: 0.01725    Last error: 0.01922\n",
      "Iteration No.: 44    Current error: 0.01545    Last error: 0.01725\n",
      "Iteration No.: 45    Current error: 0.01379    Last error: 0.01545\n",
      "Iteration No.: 46    Current error: 0.01216    Last error: 0.01379\n",
      "Iteration No.: 47    Current error: 0.01065    Last error: 0.01216\n",
      "Iteration No.: 48    Current error: 0.00917    Last error: 0.01065\n",
      "Iteration No.: 49    Current error: 0.00748    Last error: 0.00917\n",
      "Iteration No.: 50    Current error: 0.00568    Last error: 0.00748\n",
      "Iteration No.: 51    Current error: 0.00364    Last error: 0.00568\n",
      "Iteration No.: 52    Current error: 0.00129    Last error: 0.00364\n",
      "Iteration No.: 53    Current error: 7e-05    Last error: 0.00129\n",
      "Iteration No.: 54    Current error: 0.0    Last error: 7e-05\n",
      "iterations over\n"
     ]
    }
   ],
   "source": [
    "a, b = ICP(X,P1)"
   ]
  },
  {
   "cell_type": "code",
   "execution_count": 94,
   "id": "e8ee6550",
   "metadata": {},
   "outputs": [],
   "source": [
    "pcd = o3d.geometry.PointCloud()\n",
    "pcd.points = o3d.utility.Vector3dVector(X.T)\n",
    "pcd.paint_uniform_color([1, 0, 0])\n",
    "pcd1.points = o3d.utility.Vector3dVector(b.T)\n",
    "pcd1.paint_uniform_color([0, 0, 1])\n",
    "o3d.visualization.draw_geometries([pcd,pcd1],)"
   ]
  },
  {
   "cell_type": "code",
   "execution_count": null,
   "id": "9ab67ad8",
   "metadata": {},
   "outputs": [],
   "source": []
  }
 ],
 "metadata": {
  "kernelspec": {
   "display_name": "Python 3",
   "language": "python",
   "name": "python3"
  },
  "language_info": {
   "codemirror_mode": {
    "name": "ipython",
    "version": 3
   },
   "file_extension": ".py",
   "mimetype": "text/x-python",
   "name": "python",
   "nbconvert_exporter": "python",
   "pygments_lexer": "ipython3",
   "version": "3.8.11"
  }
 },
 "nbformat": 4,
 "nbformat_minor": 5
}
