{
 "cells": [
  {
   "cell_type": "markdown",
   "id": "exposed-little",
   "metadata": {},
   "source": [
    "# Question 3: Trajectory Evaluation and g2o"
   ]
  },
  {
   "cell_type": "markdown",
   "id": "hearing-bachelor",
   "metadata": {},
   "source": [
    "_Refer to the example notebooks for installation instructions_"
   ]
  },
  {
   "cell_type": "markdown",
   "id": "radio-atlantic",
   "metadata": {},
   "source": [
    "# Evo"
   ]
  },
  {
   "cell_type": "markdown",
   "id": "recognized-booking",
   "metadata": {},
   "source": [
    "So you've implemented 2D SLAM, great! Now, what? We need a measure of how good the trajectory is. The error/loss used earlier doesn't tell us much about how the trajectory differs from the ground truth. Here, we try to do just this - compute error metrics. Rather than computing these from scratch, we will just Evo - https://github.com/MichaelGrupp/evo/."
   ]
  },
  {
   "cell_type": "markdown",
   "id": "amino-command",
   "metadata": {},
   "source": [
    "Look at the absolute pose error (APE) and relative pose error (RPE). What do they capture and how are they calculated (descriptive answer)? How do these metrics differ in methodology? Can we determine if the error is more along the x/y axis?\n",
    "\n",
    "Answer the above questions and report errors for the obtained trajectory."
   ]
  },
  {
   "cell_type": "code",
   "execution_count": 2,
   "id": "317bad9c",
   "metadata": {},
   "outputs": [
    {
     "name": "stdout",
     "output_type": "stream",
     "text": [
      "Figure(640x480)\r\n",
      "saved 'gt.kitti' from 'gt.g2o'\r\n"
     ]
    }
   ],
   "source": [
    "! python3 ../misc/g2o_to_kitti.py gt.g2o gt.kitti"
   ]
  },
  {
   "cell_type": "code",
   "execution_count": 3,
   "id": "d25d315f",
   "metadata": {},
   "outputs": [
    {
     "name": "stdout",
     "output_type": "stream",
     "text": [
      "Figure(640x480)\r\n",
      "saved 'opt.kitti' from 'opt.g2o'\r\n"
     ]
    }
   ],
   "source": [
    "! python3 ../misc/g2o_to_kitti.py opt.g2o opt.kitti"
   ]
  },
  {
   "cell_type": "code",
   "execution_count": 4,
   "id": "c06d4455",
   "metadata": {},
   "outputs": [
    {
     "name": "stdout",
     "output_type": "stream",
     "text": [
      " edges-poses.g2o   opt.kitti\r\n",
      " \u001b[0m\u001b[01;34mg2o\u001b[0m/             'Question 1 - 1D SLAM.ipynb'\r\n",
      " gt.g2o           'Question 2 - 2D SLAM.ipynb'\r\n",
      " gt.kitti         'Question 3 - Trajectory Evaluation and g2o.ipynb'\r\n",
      " opt.g2o          'Question 4 - General Questions.ipynb'\r\n"
     ]
    }
   ],
   "source": [
    "!ls"
   ]
  },
  {
   "cell_type": "code",
   "execution_count": 5,
   "id": "87f21e4d",
   "metadata": {},
   "outputs": [
    {
     "name": "stdout",
     "output_type": "stream",
     "text": [
      "--------------------------------------------------------------------------------\n",
      "Loaded 120 poses from: gt.kitti\n",
      "Loaded 120 poses from: opt.kitti\n",
      "--------------------------------------------------------------------------------\n",
      "Found 119 pairs with delta 1 (frames) among 120 poses using consecutive pairs.\n",
      "Compared 119 relative pose pairs, delta = 1 (frames) with consecutive pairs.\n",
      "Calculating RPE for translation part pose relation...\n",
      "--------------------------------------------------------------------------------\n",
      "RPE w.r.t. translation part (m)\n",
      "for delta = 1 (frames) using consecutive pairs\n",
      "(not aligned)\n",
      "\n",
      "       max\t0.289817\n",
      "      mean\t0.122384\n",
      "    median\t0.119489\n",
      "       min\t0.017779\n",
      "      rmse\t0.138801\n",
      "       sse\t2.292621\n",
      "       std\t0.065481\n",
      "\n",
      "--------------------------------------------------------------------------------\n",
      "Plotting results... \n",
      "\u001b[0m"
     ]
    }
   ],
   "source": [
    "! evo_rpe kitti gt.kitti opt.kitti -v --plot --plot_mode xy"
   ]
  },
  {
   "cell_type": "code",
   "execution_count": 6,
   "id": "7e9e4ada",
   "metadata": {},
   "outputs": [
    {
     "name": "stdout",
     "output_type": "stream",
     "text": [
      "--------------------------------------------------------------------------------\n",
      "Loaded 120 poses from: gt.kitti\n",
      "Loaded 120 poses from: opt.kitti\n",
      "--------------------------------------------------------------------------------\n",
      "Compared 120 absolute pose pairs.\n",
      "Calculating APE for translation part pose relation...\n",
      "--------------------------------------------------------------------------------\n",
      "APE w.r.t. translation part (m)\n",
      "(not aligned)\n",
      "\n",
      "       max\t5.919644\n",
      "      mean\t2.653611\n",
      "    median\t2.919888\n",
      "       min\t0.000000\n",
      "      rmse\t3.002063\n",
      "       sse\t1081.485621\n",
      "       std\t1.403827\n",
      "\n",
      "--------------------------------------------------------------------------------\n",
      "Plotting results... \n",
      "\u001b[0m"
     ]
    }
   ],
   "source": [
    "! evo_ape kitti gt.kitti opt.kitti -v --plot --plot_mode xy"
   ]
  },
  {
   "cell_type": "code",
   "execution_count": 11,
   "id": "79936bcf",
   "metadata": {},
   "outputs": [
    {
     "name": "stdout",
     "output_type": "stream",
     "text": [
      "--------------------------------------------------------------------------------\n",
      "Loaded 120 poses from: gt.kitti\n",
      "Loaded 120 poses from: opt.kitti\n",
      "--------------------------------------------------------------------------------\n",
      "name:\tgt\n",
      "infos:\n",
      "\tnr. of poses\t120\n",
      "\tpath length (m)\t52.976517997999295\n",
      "\tpos_end (m)\t[-2.8 -4.5  0. ]\n",
      "\tpos_start (m)\t[-8.  5.  0.]\n",
      "--------------------------------------------------------------------------------\n",
      "name:\topt\n",
      "infos:\n",
      "\tnr. of poses\t120\n",
      "\tpath length (m)\t54.60892449689428\n",
      "\tpos_end (m)\t[-1.3081428 -1.2477351  0.       ]\n",
      "\tpos_start (m)\t[-8.  5.  0.]\n",
      "\u001b[0m"
     ]
    }
   ],
   "source": [
    "! evo_traj kitti gt.kitti opt.kitti -v --plot --plot_mode xy"
   ]
  },
  {
   "cell_type": "markdown",
   "id": "3927e033",
   "metadata": {},
   "source": [
    "**Answer to theory questions based on EVO**  \n",
    "\n",
    "**Question**: Look at the absolute pose error (APE) and relative pose error (RPE). What do they capture and how are they calculated (descriptive answer)? How do these metrics differ in methodology?  \n",
    "\n",
    "Absolute pose error is often called absolute trajectory error is the average deviation from ground truth trajectory per frame. The global consistency can be evaluated by comparing the absolute distances between estimated and ground truth trajectory. Usually, mean or median values are computed.\n",
    "<img src=\"ATE_def.png\" alt=\"drawing\" width=\"450\"/>\n",
    "\n",
    "\n",
    "The relative pose error measures the local accuracy of the trajectory over a fixed time interval. Therefore, the relative pose error corresponds to the drift of the trajectory.\n",
    "The RPE is usually divided into translation and rotation components. Root mean squared error over all time indicies for is used to calculate RPE translation error:\n",
    "<img src=\"RPE_trans.png\" alt=\"drawing\" width=\"300\"/>\n",
    "For rotation component, mean error approach is used:\n",
    "<img src=\"RPE_rot.png\" alt=\"drawing\" width=\"250\"/>\n",
    "\n",
    "Sources:  \n",
    "https://arxiv.org/pdf/1910.04755.pdf  \n",
    "https://github-wiki-see.page/m/MichaelGrupp/evo/wiki/Metrics\n",
    "\n",
    "\n",
    "\n",
    "\n",
    "  \n",
    "**Question**: Can we determine if the error is more along the x/y axis?  \n",
    "**Answer**:  \n",
    "<img src=\"EVO_theory.png\" alt=\"drawing\" width=\"900\"/>\n",
    "We can see from the XY trajectory plot of EVO above, that the difference in X is higher compared to the error in Y. The Y co-ordinates don't have much difference and have even perfectly aligned in some the regions, however, some big differences are present in X co-ordinate. Hence the error must be more along X."
   ]
  },
  {
   "cell_type": "markdown",
   "id": "ccd3150a",
   "metadata": {},
   "source": [
    "**Trajectory and Errors generated using EVO**\n",
    "\n",
    "Trajectory Plot\n",
    "<img src=\"traj.png\" alt=\"drawing\" width=\"900\"/>\n",
    "\n",
    "Analyzing XYZ differences\n",
    "<img src=\"traj_xyz.png\" alt=\"drawing\" width=\"900\"/>\n",
    "\n",
    "Analyzing RPY differences\n",
    "<img src=\"traj_rpy.png\" alt=\"drawing\" width=\"900\"/>\n",
    "\n",
    "Absolute Pose Error Map\n",
    "<img src=\"APE_map.png\" alt=\"drawing\" width=\"900\"/>\n",
    "\n",
    "Absolute Pose Error Raw\n",
    "<img src=\"APE_raw.png\" alt=\"drawing\" width=\"900\"/>\n",
    "\n",
    "Relative Pose Error Map\n",
    "<img src=\"RPE_map.png\" alt=\"drawing\" width=\"900\"/>\n",
    "\n",
    "Relative Pose Error Raw\n",
    "<img src=\"RPE_raw.png\" alt=\"drawing\" width=\"900\"/>"
   ]
  },
  {
   "cell_type": "markdown",
   "id": "surrounded-anderson",
   "metadata": {},
   "source": [
    "If you're interested, play around with this tool and add any other plots that you think might be relevant/interesting."
   ]
  },
  {
   "cell_type": "markdown",
   "id": "exceptional-charity",
   "metadata": {},
   "source": [
    "# g2o"
   ]
  },
  {
   "cell_type": "markdown",
   "id": "presidential-hayes",
   "metadata": {},
   "source": [
    "Install g2o as mentioned in `examples/g2o.ipynb` and optimise `edges.txt`, the file you used earlier. Also use `g2o_viewer` and optimize `intel` (a trajectory in the Intel research lab) and `sphere`. They should look something like:\n",
    "\n",
    "\n",
    "<table><tr>\n",
    "<td> <img src=\"../misc/intel.jpg\" alt=\"Drawing\" style=\"width: 250px;\"/> </td>\n",
    "<td> <img src=\"../misc/sphere.jpg\" alt=\"Drawing\" style=\"width: 250px;\"/> </td>\n",
    "</tr></table>"
   ]
  },
  {
   "cell_type": "markdown",
   "id": "amino-football",
   "metadata": {},
   "source": [
    "Write briefly about your observations and try out few options in the GUI. What do they do, how do they perform?"
   ]
  },
  {
   "cell_type": "markdown",
   "id": "927ce9d2",
   "metadata": {},
   "source": [
    "**Original question**\n",
    "<br>\n",
    "Initial estimate:\n",
    "<img src=\"Q3_g2o1.png\" alt=\"drawing\" width=\"1000\"/>\n",
    "<br>\n",
    "Plot after our optimization:\n",
    "<img src=\"Q3_g2o2.png\" alt=\"drawing\" width=\"1000\"/>\n",
    "<br>\n",
    "Plot after G2O optimization with default configs and Gauss Newton optimizer (around 8 to 9 iterations):\n",
    "<img src=\"Q3_g2o3.png\" alt=\"drawing\" width=\"1000\"/>\n",
    "\n",
    "<br>\n",
    "<br>\n",
    "<br>\n",
    "\n",
    "**intel.g2o**\n",
    "<br>\n",
    "Plot for initial g2o:\n",
    "<img src=\"Q3_g2o4.png\" alt=\"drawing\" width=\"1000\"/>\n",
    "<br>\n",
    "Plot after G2O optimization with default configs and Gauss Newton optimizer (around 8 to 9 iterations):\n",
    "<img src=\"Q3_g2o5.png\" alt=\"drawing\" width=\"1000\"/>\n",
    "<br>\n",
    "\n",
    "<br>\n",
    "<br>\n",
    "<br>\n",
    "\n",
    "**sphere.g2o**\n",
    "<br>\n",
    "Plot for initial g2o:\n",
    "<img src=\"Q3_g2o6.png\" alt=\"drawing\" width=\"1000\"/>\n",
    "<br>\n",
    "Plot after G2O optimization with default configs and Gauss Newton optimizer (around 50 iterations):\n",
    "<img src=\"Q3_g2o8.png\" alt=\"drawing\" width=\"1000\"/>  \n",
    "  \n",
    "As we can see the above plot differs from the sample plot given to us to we try other methods.  \n",
    "  \n",
    "<br>\n",
    "Plot after G2O optimization with Robust Kernel Method with Kernel width = 10 (around 50 iterations):\n",
    "<img src=\"Q3_g2o7.png\" alt=\"drawing\" width=\"1000\"/>"
   ]
  },
  {
   "cell_type": "markdown",
   "id": "2cecf8e7",
   "metadata": {},
   "source": [
    "**Observations:**\n",
    "* For our plot: As we observe, in our plot, the g2o gives much better output for the optimized positions compared to our optimization, that too in much fewer optimizations. However, since the optimized position is still much different from the ground truth, we can infer that there must be lot of noise, leading to incorrect constraints.\n",
    "* For Intel - The plot converges in 8 to 9 iterations and from the result plot, we can see that an indoor map and been constructed. \n",
    "* For sphere - The plot didn't converge even in 100 iterations using the default configs (Gauss Newton optimizer). After trying other methods, we were able to get the correct plot with Robust Kernel Method with Kernel width = 10 in about 50 iterations.\n",
    "  \n",
    "For inter and sphere, the initial plots were very noise, which indicates noise in odometry data. Hence we can infer that loop closure constraints must have had less noise.\n",
    "\n",
    "**Other options in GUI:**  \n",
    "In the GUI, we have the option to change the optimizer using which we can. We tried few other optimizers, but default Gauss Newton performed the best in all the 3 cases. LM optimizer was much slower than gauss newton (the intel plot didn't converge with LM even after 100 iterations). In the sphere plot, the poses didn't optimize even in 100 iterations. Here we then tried least squares with Robust Kernels with Kernel Widhth = 10, using which the plot converged in about 50 iterations.\n"
   ]
  },
  {
   "cell_type": "code",
   "execution_count": null,
   "id": "b49940fc",
   "metadata": {},
   "outputs": [],
   "source": []
  }
 ],
 "metadata": {
  "kernelspec": {
   "display_name": "Python 3",
   "language": "python",
   "name": "python3"
  },
  "language_info": {
   "codemirror_mode": {
    "name": "ipython",
    "version": 3
   },
   "file_extension": ".py",
   "mimetype": "text/x-python",
   "name": "python",
   "nbconvert_exporter": "python",
   "pygments_lexer": "ipython3",
   "version": "3.8.11"
  }
 },
 "nbformat": 4,
 "nbformat_minor": 5
}
