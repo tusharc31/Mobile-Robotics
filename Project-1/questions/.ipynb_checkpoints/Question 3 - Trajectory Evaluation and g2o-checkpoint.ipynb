{
 "cells": [
  {
   "cell_type": "markdown",
   "id": "exposed-little",
   "metadata": {},
   "source": [
    "# Question 3: Trajectory Evaluation and g2o"
   ]
  },
  {
   "cell_type": "markdown",
   "id": "hearing-bachelor",
   "metadata": {},
   "source": [
    "_Refer to the example notebooks for installation instructions_"
   ]
  },
  {
   "cell_type": "markdown",
   "id": "radio-atlantic",
   "metadata": {},
   "source": [
    "# Evo"
   ]
  },
  {
   "cell_type": "markdown",
   "id": "recognized-booking",
   "metadata": {},
   "source": [
    "So you've implemented 2D SLAM, great! Now, what? We need a measure of how good the trajectory is. The error/loss used earlier doesn't tell us much about how the trajectory differs from the ground truth. Here, we try to do just this - compute error metrics. Rather than computing these from scratch, we will just Evo - https://github.com/MichaelGrupp/evo/."
   ]
  },
  {
   "cell_type": "markdown",
   "id": "amino-command",
   "metadata": {},
   "source": [
    "Look at the absolute pose error (APE) and relative pose error (RPE). What do they capture and how are they calculated (descriptive answer)? How do these metrics differ in methodology? Can we determine if the error is more along the x/y axis?\n",
    "\n",
    "Answer the above questions and report errors for the obtained trajectory."
   ]
  },
  {
   "cell_type": "code",
   "execution_count": 2,
   "id": "bf12b0f5",
   "metadata": {},
   "outputs": [
    {
     "name": "stdout",
     "output_type": "stream",
     "text": [
      "Figure(640x480)\r\n",
      "saved 'gt.kitti' from 'gt.g2o'\r\n"
     ]
    }
   ],
   "source": [
    "! python3 ../misc/g2o_to_kitti.py gt.g2o gt.kitti"
   ]
  },
  {
   "cell_type": "code",
   "execution_count": 3,
   "id": "5e52cd6d",
   "metadata": {},
   "outputs": [
    {
     "name": "stdout",
     "output_type": "stream",
     "text": [
      "Figure(640x480)\r\n",
      "saved 'opt.kitti' from 'opt.g2o'\r\n"
     ]
    }
   ],
   "source": [
    "! python3 ../misc/g2o_to_kitti.py opt.g2o opt.kitti"
   ]
  },
  {
   "cell_type": "code",
   "execution_count": 4,
   "id": "19baae89",
   "metadata": {},
   "outputs": [
    {
     "name": "stdout",
     "output_type": "stream",
     "text": [
      " edges-poses.g2o   opt.kitti\r\n",
      " \u001b[0m\u001b[01;34mg2o\u001b[0m/             'Question 1 - 1D SLAM.ipynb'\r\n",
      " gt.g2o           'Question 2 - 2D SLAM.ipynb'\r\n",
      " gt.kitti         'Question 3 - Trajectory Evaluation and g2o.ipynb'\r\n",
      " opt.g2o          'Question 4 - General Questions.ipynb'\r\n"
     ]
    }
   ],
   "source": [
    "!ls"
   ]
  },
  {
   "cell_type": "code",
   "execution_count": 5,
   "id": "ba890a39",
   "metadata": {},
   "outputs": [
    {
     "name": "stdout",
     "output_type": "stream",
     "text": [
      "--------------------------------------------------------------------------------\n",
      "Loaded 120 poses from: gt.kitti\n",
      "Loaded 120 poses from: opt.kitti\n",
      "--------------------------------------------------------------------------------\n",
      "Found 119 pairs with delta 1 (frames) among 120 poses using consecutive pairs.\n",
      "Compared 119 relative pose pairs, delta = 1 (frames) with consecutive pairs.\n",
      "Calculating RPE for translation part pose relation...\n",
      "--------------------------------------------------------------------------------\n",
      "RPE w.r.t. translation part (m)\n",
      "for delta = 1 (frames) using consecutive pairs\n",
      "(not aligned)\n",
      "\n",
      "       max\t0.289817\n",
      "      mean\t0.122384\n",
      "    median\t0.119489\n",
      "       min\t0.017779\n",
      "      rmse\t0.138801\n",
      "       sse\t2.292621\n",
      "       std\t0.065481\n",
      "\n",
      "--------------------------------------------------------------------------------\n",
      "Plotting results... \n",
      "\u001b[0m"
     ]
    }
   ],
   "source": [
    "! evo_rpe kitti gt.kitti opt.kitti -v --plot --plot_mode xy"
   ]
  },
  {
   "cell_type": "code",
   "execution_count": 6,
   "id": "4c72518c",
   "metadata": {},
   "outputs": [
    {
     "name": "stdout",
     "output_type": "stream",
     "text": [
      "--------------------------------------------------------------------------------\n",
      "Loaded 120 poses from: gt.kitti\n",
      "Loaded 120 poses from: opt.kitti\n",
      "--------------------------------------------------------------------------------\n",
      "Compared 120 absolute pose pairs.\n",
      "Calculating APE for translation part pose relation...\n",
      "--------------------------------------------------------------------------------\n",
      "APE w.r.t. translation part (m)\n",
      "(not aligned)\n",
      "\n",
      "       max\t5.919644\n",
      "      mean\t2.653611\n",
      "    median\t2.919888\n",
      "       min\t0.000000\n",
      "      rmse\t3.002063\n",
      "       sse\t1081.485621\n",
      "       std\t1.403827\n",
      "\n",
      "--------------------------------------------------------------------------------\n",
      "Plotting results... \n",
      "\u001b[0m"
     ]
    }
   ],
   "source": [
    "! evo_ape kitti gt.kitti opt.kitti -v --plot --plot_mode xy"
   ]
  },
  {
   "cell_type": "code",
   "execution_count": 11,
   "id": "bbf678f5",
   "metadata": {},
   "outputs": [
    {
     "name": "stdout",
     "output_type": "stream",
     "text": [
      "--------------------------------------------------------------------------------\n",
      "Loaded 120 poses from: gt.kitti\n",
      "Loaded 120 poses from: opt.kitti\n",
      "--------------------------------------------------------------------------------\n",
      "name:\tgt\n",
      "infos:\n",
      "\tnr. of poses\t120\n",
      "\tpath length (m)\t52.976517997999295\n",
      "\tpos_end (m)\t[-2.8 -4.5  0. ]\n",
      "\tpos_start (m)\t[-8.  5.  0.]\n",
      "--------------------------------------------------------------------------------\n",
      "name:\topt\n",
      "infos:\n",
      "\tnr. of poses\t120\n",
      "\tpath length (m)\t54.60892449689428\n",
      "\tpos_end (m)\t[-1.3081428 -1.2477351  0.       ]\n",
      "\tpos_start (m)\t[-8.  5.  0.]\n",
      "\u001b[0m"
     ]
    }
   ],
   "source": [
    "! evo_traj kitti gt.kitti opt.kitti -v --plot --plot_mode xy"
   ]
  },
  {
   "cell_type": "markdown",
   "id": "f638334a",
   "metadata": {},
   "source": [
    "**Answer to theory questions based on EVO**  \n",
    "\n",
    "**Question**: Look at the absolute pose error (APE) and relative pose error (RPE). What do they capture and how are they calculated (descriptive answer)? How do these metrics differ in methodology?  \n",
    "\n",
    "Absolute pose error is often called absolute trajectory error. The global consistency can be evaluated by comparing the absolute distances between estimated and ground truth trajectory. Usually, mean or median values are computed. Actually, absolute trajectory error is the average deviation\n",
    "from ground truth trajectory per frame.\n",
    "<img src=\"ATE_def.png\" alt=\"drawing\" width=\"450\"/>\n",
    "\n",
    "\n",
    "The relative pose error measures the local accuracy of the trajectory over a fixed time interval. Therefore, the relative pose error corresponds to the drift of the trajectory.\n",
    "The RPE is usually divided into translation and rotation components. Root mean squared error over all time indicies for is used to calculate RPE translation error:\n",
    "<img src=\"RPE_trans.png\" alt=\"drawing\" width=\"300\"/>\n",
    "For rotation component, mean error approach is used:\n",
    "<img src=\"RPE_rot.png\" alt=\"drawing\" width=\"250\"/>\n",
    "\n",
    "Sources:  \n",
    "https://arxiv.org/pdf/1910.04755.pdf  \n",
    "https://github-wiki-see.page/m/MichaelGrupp/evo/wiki/Metrics\n",
    "\n",
    "\n",
    "\n",
    "\n",
    "  \n",
    "**Question**: Can we determine if the error is more along the x/y axis?  \n",
    "**Answer**:  \n",
    "<img src=\"EVO_theory.png\" alt=\"drawing\" width=\"900\"/>\n",
    "We can see from the XY trajectory plot of EVO above, that the difference in X is higher compared to the error in Y. The Y co-ordinates don't have much difference and have even perfectly aligned in some the regions, however, some big differences are present in X co-ordinate. Hence the error must be more along X."
   ]
  },
  {
   "cell_type": "markdown",
   "id": "0e616e9e",
   "metadata": {},
   "source": [
    "**Trajectory and Errors generated using EVO**\n",
    "\n",
    "Trajectory Plot\n",
    "<img src=\"traj.png\" alt=\"drawing\" width=\"900\"/>\n",
    "\n",
    "Analyzing XYZ differences\n",
    "<img src=\"traj_xyz.png\" alt=\"drawing\" width=\"900\"/>\n",
    "\n",
    "Analyzing RPY differences\n",
    "<img src=\"traj_rpy.png\" alt=\"drawing\" width=\"900\"/>\n",
    "\n",
    "Absolute Pose Error Map\n",
    "<img src=\"APE_map.png\" alt=\"drawing\" width=\"900\"/>\n",
    "\n",
    "Absolute Pose Error Raw\n",
    "<img src=\"APE_raw.png\" alt=\"drawing\" width=\"900\"/>\n",
    "\n",
    "Relative Pose Error Map\n",
    "<img src=\"RPE_map.png\" alt=\"drawing\" width=\"900\"/>\n",
    "\n",
    "Relative Pose Error Raw\n",
    "<img src=\"RPE_raw.png\" alt=\"drawing\" width=\"900\"/>"
   ]
  },
  {
   "cell_type": "markdown",
   "id": "surrounded-anderson",
   "metadata": {},
   "source": [
    "If you're interested, play around with this tool and add any other plots that you think might be relevant/interesting."
   ]
  },
  {
   "cell_type": "markdown",
   "id": "exceptional-charity",
   "metadata": {},
   "source": [
    "# g2o"
   ]
  },
  {
   "cell_type": "markdown",
   "id": "presidential-hayes",
   "metadata": {},
   "source": [
    "Install g2o as mentioned in `examples/g2o.ipynb` and optimise `edges.txt`, the file you used earlier. Also use `g2o_viewer` and optimize `intel` (a trajectory in the Intel research lab) and `sphere`. They should look something like:\n",
    "\n",
    "\n",
    "<table><tr>\n",
    "<td> <img src=\"../misc/intel.jpg\" alt=\"Drawing\" style=\"width: 250px;\"/> </td>\n",
    "<td> <img src=\"../misc/sphere.jpg\" alt=\"Drawing\" style=\"width: 250px;\"/> </td>\n",
    "</tr></table>"
   ]
  },
  {
   "cell_type": "markdown",
   "id": "amino-football",
   "metadata": {},
   "source": [
    "Write briefly about your observations and try out few options in the GUI. What do they do, how do they perform?"
   ]
  },
  {
   "cell_type": "code",
   "execution_count": 8,
   "id": "interstate-arizona",
   "metadata": {},
   "outputs": [],
   "source": [
    "# Your answer"
   ]
  },
  {
   "cell_type": "code",
   "execution_count": 12,
   "id": "b63684c3",
   "metadata": {},
   "outputs": [
    {
     "name": "stdout",
     "output_type": "stream",
     "text": [
      "usage: evo_ape [-h] {kitti,tum,euroc,bag} ...\r\n",
      "\r\n",
      "Absolute pose error (APE) metric app (c) evo authors\r\n",
      "\r\n",
      "positional arguments:\r\n",
      "  {kitti,tum,euroc,bag}\r\n",
      "\r\n",
      "optional arguments:\r\n",
      "  -h, --help            show this help message and exit\r\n",
      "\u001b[0m"
     ]
    }
   ],
   "source": [
    "! evo_ape --help"
   ]
  },
  {
   "cell_type": "code",
   "execution_count": null,
   "id": "1a99920c",
   "metadata": {},
   "outputs": [],
   "source": []
  }
 ],
 "metadata": {
  "kernelspec": {
   "display_name": "Python 3",
   "language": "python",
   "name": "python3"
  },
  "language_info": {
   "codemirror_mode": {
    "name": "ipython",
    "version": 3
   },
   "file_extension": ".py",
   "mimetype": "text/x-python",
   "name": "python",
   "nbconvert_exporter": "python",
   "pygments_lexer": "ipython3",
   "version": "3.8.11"
  }
 },
 "nbformat": 4,
 "nbformat_minor": 5
}
