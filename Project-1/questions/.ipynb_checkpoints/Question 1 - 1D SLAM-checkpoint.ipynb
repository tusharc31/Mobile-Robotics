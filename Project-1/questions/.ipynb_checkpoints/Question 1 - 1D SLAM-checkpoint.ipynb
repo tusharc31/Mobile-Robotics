{
 "cells": [
  {
   "cell_type": "markdown",
   "id": "posted-twist",
   "metadata": {},
   "source": [
    "# Question 1:  Pose Graph Optimization for 1D SLAM"
   ]
  },
  {
   "cell_type": "markdown",
   "id": "chemical-andorra",
   "metadata": {},
   "source": [
    "A solved example for 1D SLAM which optimizes for pose variables using weighted least squares method (Gauss Newton) has been explained in the class. You can view it at `examples/1D-SLAM.ipynb`. Your first task is to code this from scratch.\n",
    "\n",
    "For this section, you have to calculate Jacobian analytically yourself and use it. However, you can check how correct it is using `jax`'s `jacobian`. Its usage is explained in the supplementary notebook (`examples/`)."
   ]
  },
  {
   "cell_type": "markdown",
   "id": "fleet-digest",
   "metadata": {},
   "source": [
    "## How to get started?\n",
    "\n",
    "1. Go through the example and understand the optimization procedure.\n",
    "2. Generate the data as in the example.\n",
    "3. Write the derivatives of the function with respect to the constraints\n",
    "4. Create the final jacobian and write the update steps using Gauss Newton\n",
    "\n",
    "This tiny example will help make sense of the next question, as it's largely just an extension of this."
   ]
  },
  {
   "cell_type": "markdown",
   "id": "tough-brighton",
   "metadata": {},
   "source": [
    "Finally, plot the loop closure constraint, poses, and error at every iteration as well. Since this is a one dimensional example, you can just assume x = y."
   ]
  },
  {
   "cell_type": "code",
   "execution_count": 1,
   "id": "multiple-stomach",
   "metadata": {},
   "outputs": [],
   "source": [
    "import os\n",
    "import math\n",
    "import numpy as np\n",
    "import matplotlib.pyplot as plt"
   ]
  },
  {
   "cell_type": "code",
   "execution_count": 2,
   "id": "focal-identification",
   "metadata": {},
   "outputs": [
    {
     "name": "stdout",
     "output_type": "stream",
     "text": [
      "Iteration number: 1\n",
      "Errors = 12.5\n",
      "Positions: [6.9388939e-18 1.0000000e+00 1.9000000e+00 2.9000000e+00 1.0000000e-01]\n",
      "- - - - - - - - - - - - - - - - -\n",
      "\n",
      "Iteration number: 2\n",
      "Errors = 2.499999999999998\n",
      "Positions: [-1.66533454e-19  1.00000000e+00  1.90000000e+00  2.90000000e+00\n",
      "  1.00000000e-01]\n",
      "- - - - - - - - - - - - - - - - -\n",
      "\n",
      "Iteration number: 3\n",
      "Errors = 2.4999999999999956\n",
      "Positions: [-1.66533454e-19  1.00000000e+00  1.90000000e+00  2.90000000e+00\n",
      "  1.00000000e-01]\n",
      "- - - - - - - - - - - - - - - - -\n",
      "\n",
      "Iteration number: 4\n",
      "Errors = 2.4999999999999956\n",
      "Positions: [-1.66533454e-19  1.00000000e+00  1.90000000e+00  2.90000000e+00\n",
      "  1.00000000e-01]\n",
      "- - - - - - - - - - - - - - - - -\n",
      "\n",
      "Iteration number: 5\n",
      "Errors = 2.4999999999999956\n",
      "Positions: [-1.66533454e-19  1.00000000e+00  1.90000000e+00  2.90000000e+00\n",
      "  1.00000000e-01]\n",
      "- - - - - - - - - - - - - - - - -\n",
      "\n",
      "Iteration number: 6\n",
      "Errors = 2.4999999999999956\n",
      "Positions: [-1.66533454e-19  1.00000000e+00  1.90000000e+00  2.90000000e+00\n",
      "  1.00000000e-01]\n",
      "- - - - - - - - - - - - - - - - -\n",
      "\n",
      "Iteration number: 7\n",
      "Errors = 2.4999999999999956\n",
      "Positions: [-1.66533454e-19  1.00000000e+00  1.90000000e+00  2.90000000e+00\n",
      "  1.00000000e-01]\n",
      "- - - - - - - - - - - - - - - - -\n",
      "\n",
      "Iteration number: 8\n",
      "Errors = 2.4999999999999956\n",
      "Positions: [-1.66533454e-19  1.00000000e+00  1.90000000e+00  2.90000000e+00\n",
      "  1.00000000e-01]\n",
      "- - - - - - - - - - - - - - - - -\n",
      "\n",
      "Iteration number: 9\n",
      "Errors = 2.4999999999999956\n",
      "Positions: [-1.66533454e-19  1.00000000e+00  1.90000000e+00  2.90000000e+00\n",
      "  1.00000000e-01]\n",
      "- - - - - - - - - - - - - - - - -\n",
      "\n",
      "Iteration number: 10\n",
      "Errors = 2.4999999999999956\n",
      "Positions: [-1.66533454e-19  1.00000000e+00  1.90000000e+00  2.90000000e+00\n",
      "  1.00000000e-01]\n",
      "- - - - - - - - - - - - - - - - -\n",
      "\n"
     ]
    }
   ],
   "source": [
    "sigma = 0.01\n",
    "lmbda = 0.01\n",
    "initial_pos_uncertainity = 0.001\n",
    "\n",
    "odometer = np.array([1.1, 1, 1.1, -2.7, 0])\n",
    "x = np.array([0, 1.1, 2.1, 3.2, 0.5])\n",
    "total_iterations = 10\n",
    "\n",
    "y_error = []\n",
    "x_itr = []\n",
    "\n",
    "omega = [[sigma, 0, 0, 0, 0, 0], \n",
    "         [0, sigma, 0, 0, 0, 0], \n",
    "         [0, 0, sigma, 0, 0, 0],\n",
    "         [0, 0, 0, sigma, 0, 0],\n",
    "         [0, 0, 0, 0, lmbda, 0],\n",
    "         [0, 0, 0, 0, 0, initial_pos_uncertainity]]\n",
    "\n",
    "J = [[1.0, -1.0, 0.0, 0.0, 0.0], \n",
    "     [0.0, 1.0, -1.0, 0.0, 0.0], \n",
    "     [0.0, 0.0, 1.0, -1.0, 0.0], \n",
    "     [0.0, 0.0, 0.0, 1.0, -1.0], \n",
    "     [1.0, 0.0, 0.0, 0.0, -1.0], \n",
    "     [1.0, 0.0, 0.0, 0.0, 0.0]]\n",
    "\n",
    "omega = np.array(omega)\n",
    "omega = np.linalg.inv(omega)\n",
    "\n",
    "J = np.array(J)\n",
    "omega = omega.astype(np.float)\n",
    "H = np.dot(np.dot(J.T, omega), J)\n",
    "\n",
    "for i in range(total_iterations):\n",
    "\n",
    "    fx = [x[0] + odometer[0] - x[1],\n",
    "          x[1] + odometer[1] - x[2],\n",
    "          x[2] + odometer[2] - x[3],\n",
    "          x[3] + odometer[3] - x[4],\n",
    "          x[0] + odometer[4] - x[4],\n",
    "          x[0] - 0]\n",
    "\n",
    "    fx = np.array(fx)\n",
    "    fx = fx.T\n",
    "    \n",
    "    err = 0.5 * np.dot(np.dot(fx.T, omega), fx)\n",
    "    y_error.append(err)\n",
    "    x_itr.append(i+1)\n",
    "    \n",
    "    b = np.dot(np.dot(J.T, omega.T), fx)\n",
    "    del_x = np.dot(np.linalg.inv(H), -b)\n",
    "    del_x\n",
    "\n",
    "    x = x+del_x\n",
    "    print(\"Iteration number: \"+str(i+1))\n",
    "    print(\"Errors = \"+str(err))\n",
    "    print(\"Positions: \", end=\"\")\n",
    "    print(x)\n",
    "    print(\"- - - - - - - - - - - - - - - - -\\n\")\n"
   ]
  },
  {
   "cell_type": "code",
   "execution_count": 3,
   "id": "ad48d81a",
   "metadata": {},
   "outputs": [
    {
     "data": {
      "image/png": "[encoded data removed]",
      "text/plain": [
       "<Figure size 640x480 with 1 Axes>"
      ]
     },
     "metadata": {},
     "output_type": "display_data"
    }
   ],
   "source": [
    "plt.title(\"Error VS Iterations\")\n",
    "plt.xlabel(\"Iteration No\")\n",
    "plt.ylabel(\"Error value\")\n",
    "plt.plot(x_itr, y_error)\n",
    "plt.show()"
   ]
  },
  {
   "cell_type": "code",
   "execution_count": null,
   "id": "87732b72",
   "metadata": {},
   "outputs": [],
   "source": []
  }
 ],
 "metadata": {
  "kernelspec": {
   "display_name": "Python 3",
   "language": "python",
   "name": "python3"
  },
  "language_info": {
   "codemirror_mode": {
    "name": "ipython",
    "version": 3
   },
   "file_extension": ".py",
   "mimetype": "text/x-python",
   "name": "python",
   "nbconvert_exporter": "python",
   "pygments_lexer": "ipython3",
   "version": "3.8.11"
  }
 },
 "nbformat": 4,
 "nbformat_minor": 5
}
