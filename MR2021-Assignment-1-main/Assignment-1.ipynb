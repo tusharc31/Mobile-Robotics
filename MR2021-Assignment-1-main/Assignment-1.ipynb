{
 "cells": [
  {
   "cell_type": "markdown",
   "id": "18175cb5",
   "metadata": {},
   "source": [
    "# Assignment-1: Transformations and representations\n",
    "\n",
    "Team Name: Bhagwaan Bharose\n",
    "\n",
    "Roll number: 2019111019, 2019111026"
   ]
  },
  {
   "cell_type": "markdown",
   "id": "12a28a6e",
   "metadata": {},
   "source": [
    "# Instructions\n",
    "\n",
    "- Code must be written in Python in Jupyter Notebooks. We highly recommend using anaconda distribution or at the minimum, virtual environments for this assignment. See `Set Up` for detailed step-by-step instructions about the installation setup.\n",
    "- Save all your results in ```results/<question_number>/<sub_topic_number>/```\n",
    "- The **References** section provides you with important resources to solve the assignment.\n",
    "- For this assignment, you will be using Open3D extensively. Refer to [Open3D Documentation](http://www.open3d.org/docs/release/): you can use the in-built methods and **unless explicitly mentioned**, don't need to code from scratch for this assignment. \n",
    "- Make sure your code is modular since you may need to reuse parts for future assignments.\n",
    "- Answer the descriptive questions in your own words with context & clarity. Do not copy answers from online resources or lecture notes.\n",
    "- The **deadline** for this assignment is on 11/09/2021 at 11:55pm. Please note that there will be no extensions.\n",
    "- Plagiarism is **strictly prohibited**.\n"
   ]
  },
  {
   "cell_type": "markdown",
   "id": "22dac82f",
   "metadata": {},
   "source": [
    "# Submission Instructions\n",
    "\n",
    "1. Make sure your code runs without any errors after reinitializing the kernel and removing all saved variables.\n",
    "2. After completing your code and saving your results, zip the folder with name as ``Team_<team_name>_MR2021_Assignment_<assignment_number>.zip``"
   ]
  },
  {
   "cell_type": "markdown",
   "id": "b84ab9f7",
   "metadata": {},
   "source": [
    "# Set Up\n",
    "\n",
    "We highly recommend using anaconda distribution or at the minimum, virtual environments for this assignment. All assignments will be python based, hence familiarising yourself with Python is essential.\n"
   ]
  },
  {
   "cell_type": "markdown",
   "id": "51f23a5b",
   "metadata": {},
   "source": [
    "## Setting up Anaconda environment (Recommended)\n",
    "\n",
    "1. Install Anaconda or Miniconda from [here](https://docs.conda.io/projects/conda/en/latest/user-guide/install/linux.html) depending on your requirements.\n",
    "2. Now simply run `conda env create -f environment.yml` in the current folder to create an environment `mr_assignment1` (`environment.yml` can be found in `misc/`).\n",
    "3. Activate it using `conda activate mr_assignment1`.\n",
    "\n",
    "## Setting up Virtual environment using venv\n",
    "\n",
    "You can also set up a virtual environment using venv\n",
    "\n",
    "1. Run `sudo apt-get install python3-venv` from command line.\n",
    "2. `python3 -m venv ~/virtual_env/mr_assignment1`. (you can set the environment path to anything)\n",
    "3. `source ~/virtual_env/mr_assignment1/bin/activate`\n",
    "4. `pip3 install -r requirements.txt` from the current folder (`requirements.txt` can be found in `misc/`)."
   ]
  },
  {
   "cell_type": "code",
   "execution_count": 1,
   "id": "95e29c79",
   "metadata": {},
   "outputs": [
    {
     "name": "stdout",
     "output_type": "stream",
     "text": [
      "Jupyter environment detected. Enabling Open3D WebVisualizer.\n",
      "[Open3D INFO] WebRTC GUI backend enabled.\n",
      "[Open3D INFO] WebRTCWindowSystem: HTTP handshake server disabled.\n"
     ]
    }
   ],
   "source": [
    "import open3d as o3d\n",
    "import numpy as np"
   ]
  },
  {
   "cell_type": "markdown",
   "id": "8f43dbe8",
   "metadata": {},
   "source": [
    "# 1. Getting started with Open3D\n",
    "\n",
    "Open3D is an open-source library that deals with 3D data, such as point clouds, mesh. We'll be using Open3D frequently as we work with point clouds. Let's start with something simple:\n",
    "\n",
    "<img src=\"misc/bunny.jpg\" alt=\"drawing\" width=\"200\"/>\n",
    "\n",
    "1. Read the Stanford Bunny file (in `data/`) given to you and visualise it using Open3D.\n",
    "2. Convert the mesh to a point cloud and change the colour of points.\n",
    "3. Set a predefined viewing angle (using Open3D) for visualization and display the axes while plotting.\n",
    "4. Scale, Transform, and Rotate the rabbit (visualise after each step).\n",
    "5. Save the point cloud as bunny.pcd."
   ]
  },
  {
   "cell_type": "code",
   "execution_count": null,
   "id": "a68406af",
   "metadata": {},
   "outputs": [],
   "source": [
    "import copy\n",
    "\n",
    "# Part 1 - Read the Stanford Bunny file (in data/) given to you and visualise it using Open3D.\n",
    "mesh = o3d.io.read_triangle_mesh(\"./data/bunny.ply\")\n",
    "o3d.visualization.draw_geometries([mesh])\n",
    "mesh.compute_vertex_normals()\n",
    "o3d.visualization.draw_geometries([mesh])\n",
    "\n",
    "# Part 2 - Convert the mesh to a point cloud and change the colour of points.\n",
    "pcd = o3d.geometry.PointCloud()\n",
    "pcd.points = mesh.vertices\n",
    "pcd.colors = mesh.vertex_colors\n",
    "pcd.normals = mesh.vertex_normals\n",
    "o3d.visualization.draw_geometries([pcd])\n",
    "pcd.paint_uniform_color([1, 0, 0])\n",
    "o3d.visualization.draw_geometries([pcd])\n",
    "\n",
    "# Part 3 - Set a predefined viewing angle (using Open3D) for visualization and display the axes while plotting.\n",
    "FOR = o3d.geometry.TriangleMesh.create_coordinate_frame(size=0.025, origin=[0,0,0])\n",
    "o3d.visualization.draw_geometries([pcd, FOR], \n",
    "                                  zoom=1, \n",
    "                                  front=[-0.01, 0.01, 0], \n",
    "                                  lookat=[-0.01, 0.01, 0],\n",
    "                                  up=[0,1,0]\n",
    "                                 )\n",
    "\n",
    "# Part 4 - Scale, Transform, and Rotate the rabbit (visualise after each step).\n",
    "\n",
    "#Scale\n",
    "pcd.scale(1.5, center=pcd.get_center())\n",
    "o3d.visualization.draw_geometries([pcd, FOR], \n",
    "                                  zoom=1, \n",
    "                                  front=[-0.01, 0.01, 0], \n",
    "                                  lookat=[-0.01, 0.01, 0],\n",
    "                                  up=[0,1,0]\n",
    "                                 )\n",
    "# Transform\n",
    "T = np.eye(4)\n",
    "T[:3, :3] = pcd.get_rotation_matrix_from_xyz((0, np.pi / 3, np.pi / 2))\n",
    "T[0, 3] = 0.1\n",
    "T[1, 3] = 0.1\n",
    "pcd_t = copy.deepcopy(pcd).transform(T)\n",
    "pcd = copy.deepcopy(pcd_t)\n",
    "o3d.visualization.draw_geometries([pcd, FOR], \n",
    "                                  zoom=1, \n",
    "                                  front=[-0.01, 0.01, 0], \n",
    "                                  lookat=[-0.01, 0.01, 0],\n",
    "                                  up=[0,1,0]\n",
    "                                 )\n",
    "# Rotate\n",
    "R = pcd.get_rotation_matrix_from_xyz((np.pi/2, 0, 0))\n",
    "pcd.rotate(R, center=(0, 0, 0))\n",
    "o3d.visualization.draw_geometries([pcd, FOR])\n",
    "\n",
    "\n",
    "# Part 5 - Save the point cloud as bunny.pcd.\n",
    "o3d.io.write_point_cloud(\"bunny.pcd\", pcd)"
   ]
  },
  {
   "cell_type": "markdown",
   "id": "7e96a53e",
   "metadata": {},
   "source": [
    "# 2. Transformations and representations"
   ]
  },
  {
   "cell_type": "markdown",
   "id": "418ff6d5",
   "metadata": {},
   "source": [
    "## a) Euler angles\n",
    "1. Write a function that returns a rotation matrix given the angles $\\alpha$, $\\beta$, and $\\gamma$ in radians (X-Y-Z)\n",
    "\n",
    "2. Solve for angles using ```fsolve from scipy``` for three initializations of your choice and compare.\n",
    "$$M(\\alpha , \\beta ,\\gamma)=\\left[\\begin{array}{rrr}0.26200263 & -0.19674724 & 0.944799 \\\\0.21984631 & 0.96542533 & 0.14007684 \\\\\n",
    "    -0.93969262 & 0.17101007 & 0.29619813\\end{array}\\right] \n",
    "$$\n",
    "\n",
    "$$N(\\alpha , \\beta ,\\gamma)=\\left[\\begin{array}{rrr}0 & -0.173648178 &  0.984807753 \\\\0 & 0.984807753 & 0.173648178 \\\\\n",
    "    -1 & 0 & 0\\end{array}\\right] \n",
    "$$\n",
    "\n",
    "3. What is a Gimbal lock? \n",
    "\n",
    "4. Show an example where a Gimbal lock occurs and visualize the Gimbal lock on the given bunny point cloud. You have to show the above by **animation** (cube rotating along each axis one by one).\n",
    "    - *Hint: Use Open3D's non-blocking visualization and discretize the rotation to simulate the animation. For example, if you want to rotate by $30^{\\circ}$ around a particular axis, do in increments of $5^{\\circ}$ 6 times to make it look like an animation.*\n"
   ]
  },
  {
   "cell_type": "code",
   "execution_count": 65,
   "id": "03fbf7de",
   "metadata": {},
   "outputs": [
    {
     "name": "stdout",
     "output_type": "stream",
     "text": [
      "[[ 0.35355339 -0.61237244  0.70710678]\n",
      " [ 0.35355339 -0.61237244 -0.70710678]\n",
      " [ 0.8660254   0.5         0.        ]]\n",
      "- - - - - \n",
      "- - - - - \n",
      "- - - - - \n",
      "[[ 0.35355339 -0.61237244  0.70710678]\n",
      " [ 0.35355339 -0.61237244 -0.70710678]\n",
      " [ 0.8660254   0.5         0.        ]]\n",
      "-------\n",
      "0.7853981633974483\n",
      "-1.0471975511965976\n",
      "1.5707963267948966\n",
      "[array([1.57079633, 0.78539816, 1.04719755])]\n"
     ]
    }
   ],
   "source": [
    "# check rotation matrix\n",
    "# https://answers.opencv.org/question/161369/retrieve-yaw-pitch-roll-from-rvec/\n",
    "\n",
    "import numpy as np\n",
    "import math\n",
    "\n",
    "def rotation_matrix(theta):\n",
    "    R_x = np.array([[1, 0, 0],\n",
    "                    [0, math.cos(theta[0]), -math.sin(theta[0])],\n",
    "                    [0, math.sin(theta[0]), math.cos(theta[0])]\n",
    "                   ])\n",
    "    R_y = np.array([[math.cos(theta[1]), 0, math.sin(theta[1])],\n",
    "                    [0, 1, 0],\n",
    "                    [-math.sin(theta[1]), 0, math.cos(theta[1])]\n",
    "                    ])\n",
    "    R_z = np.array([[math.cos(theta[2]), -math.sin(theta[2]), 0],\n",
    "                    [math.sin(theta[2]), math.cos(theta[2]), 0],\n",
    "                    [0, 0, 1]\n",
    "                    ])\n",
    "    gg = np.dot(np.dot(R_x,R_y), R_z)\n",
    "    return gg.round(9)\n",
    "\n",
    "alpha=np.pi/2\n",
    "beta=np.pi/4\n",
    "gamma=np.pi/3\n",
    "thetas=np.array([alpha, beta, gamma])\n",
    "Sa=np.sin(thetas[0])\n",
    "Ca=np.cos(thetas[0])\n",
    "Sb=np.sin(thetas[1])\n",
    "Cb=np.cos(thetas[1])\n",
    "Sc=np.sin(thetas[2])\n",
    "Cc=np.cos(thetas[2])\n",
    "\n",
    "R=rotation_matrix([alpha, beta, gamma])\n",
    "print(R)\n",
    "\n",
    "print(\"- - - - - \")\n",
    "print(\"- - - - - \")\n",
    "print(\"- - - - - \")\n",
    "\n",
    "r = R\n",
    "r[0][0] = Cb*Cc\n",
    "r[0][1] = -Cb*Sc\n",
    "r[0][2] = Sb\n",
    "r[1][0] = Sa*Sb*Cc+Ca*Sc\n",
    "r[1][1] = -Sa*Sb*Sc+Ca*Cc\n",
    "r[1][2] = -Sa*Cb\n",
    "r[2][0] = -Ca*Sb*Cc + Sa*Sc\n",
    "r[2][1] = Ca*Sb*Sc+Sa*Cc\n",
    "r[2][2] = Ca*Cb\n",
    "\n",
    "print(r.round(9))\n",
    "\n",
    "print(\"-------\")\n",
    "\n",
    "print(np.arctan2(R[1][0]/np.cos(beta),R[0][0]/np.cos(beta)))\n",
    "print(np.arctan2(-R[2][0],(np.sqrt(R[0][0]**2+R[1][0]**2))))\n",
    "print(np.arctan2(R[2][1]/np.cos(beta),R[2][2]/np.cos(beta)))\n",
    "\n",
    "print([thetas])"
   ]
  },
  {
   "cell_type": "code",
   "execution_count": 62,
   "id": "6f9df96b",
   "metadata": {},
   "outputs": [
    {
     "name": "stdout",
     "output_type": "stream",
     "text": [
      "[3.142 0.    1.571]\n",
      "[1.57079633 0.         0.        ]\n"
     ]
    }
   ],
   "source": [
    "import numpy as np\n",
    "import math\n",
    "from scipy.optimize import fsolve\n",
    "\n",
    "def rotation_equations(thetas):\n",
    "    \n",
    "    # check if R[0][2] is 1 or -1\n",
    "    \n",
    "    Sa=np.sin(thetas[0])\n",
    "    Ca=np.cos(thetas[0])\n",
    "    Sb=np.sin(thetas[1])\n",
    "    Cb=np.cos(thetas[1])\n",
    "    Sc=np.sin(thetas[2])\n",
    "    Cc=np.cos(thetas[2])\n",
    "    \n",
    "    alpha=thetas[0]\n",
    "    beta=thetas[1]\n",
    "    gamma=thetas[2]\n",
    "    \n",
    "    return [\n",
    "        alpha - np.arctan2(R[1][0]/np.cos(beta),R[0][0]/np.cos(beta)),\n",
    "        beta - np.arctan2(R[0][2],(np.sqrt(R[0][0]**2+R[0][1]**2))),\n",
    "        gamma - np.arctan2(R[2][1]/np.cos(beta),R[2][2]/np.cos(beta))\n",
    "    ]\n",
    "        \n",
    "#     return [Cb*Cc-Cb*Sc+Sb-R[0][0]-R[0][1]-R[0][2],\n",
    "#             Sa*Sb*Cc+Ca*Sc-Sa*Sb*Sc+Ca*Cc-Sa*Cb-R[1][0]-R[1][1]-R[1][2],\n",
    "#             -Ca*Sb*Cc + Sa*Sc+Ca*Sb*Sc+Sa*Cc+Ca*Cb-R[2][0]-R[2][1]-R[2][2]\n",
    "#            ]\n",
    "\n",
    "#     return [Sa*Sb*Cc+Ca*Sc-R10,\n",
    "#             -Sa*Sb*Sc+Ca*Cc-R11,\n",
    "#             -Sa*Cb-R12]\n",
    "\n",
    "x = fsolve(rotation_equations, [-1,-1,-1])\n",
    "print((x%np.pi).round(3))\n",
    "print(thetas%np.pi)"
   ]
  },
  {
   "cell_type": "markdown",
   "id": "4c810907",
   "metadata": {},
   "source": [
    "## b) Quaternions\n",
    "\n",
    "1. What makes Quaternions popular in graphics? \n",
    "2. Convert a rotation matrix to quaternion and vice versa. Do not use inbuilt libraries for this question.\n",
    "3. Perform matrix multiplication of two $\\mathcal{R}_{3 \\times 3}$ rotation matrices and perform the same transformation in the quaternion space. Verify if the final transformation obtained in both the cases are the same.\n",
    "4. Try to interpolate any 3D model (cube / bunny / not sphere obviously!!) between two rotation matrices and visualize!\n",
    "\n",
    "The above questions require you to **code your own functions** and **only verify** using inbuilt functions."
   ]
  },
  {
   "cell_type": "code",
   "execution_count": null,
   "id": "038aebf4",
   "metadata": {},
   "outputs": [],
   "source": []
  },
  {
   "cell_type": "markdown",
   "id": "82ee473e",
   "metadata": {},
   "source": [
    "## c) Exponential maps (Bonus)\n",
    "\n",
    "1. What is the idea behind exponential map representation of rotation matrices?\n",
    "2. Perform matrix exponentiation and obtain the rotation matrix to rotate a vector $P$ around $\\omega$ for $\\theta$ seconds.\n",
    "$$\n",
    "\\omega = \\begin{bmatrix}2 \\\\ 1 \\\\ 15 \\end{bmatrix}\n",
    "$$\n",
    "\n",
    "$$\n",
    "\\theta = 4.1364\n",
    "$$\n",
    "\n",
    "3. Compute the logarithmic map (SO(3) to so(3)) of the rotation matrix to obtain the rotation vector and the angle of rotation\n",
    "$$\n",
    "\\begin{bmatrix}\n",
    "0.1 &  -0.9487 & 0.3 \\\\\n",
    "0.9487 & 0.  & -0.3162 \\\\\n",
    "0.3   &  0.3162  & 0.9 \n",
    "\\end{bmatrix}\n",
    "$$\n",
    "You can use inbuilt libraries **only to verify** your results."
   ]
  },
  {
   "cell_type": "code",
   "execution_count": null,
   "id": "5efa7c00",
   "metadata": {},
   "outputs": [],
   "source": []
  },
  {
   "cell_type": "markdown",
   "id": "d6417dc6",
   "metadata": {},
   "source": [
    "# 3. Data representations"
   ]
  },
  {
   "cell_type": "markdown",
   "id": "8239538b",
   "metadata": {},
   "source": [
    "## a) Octomaps\n",
    "\n",
    "1. Why is an Octomap memory efficient?\n",
    "2. When do we update an Octomap and why?\n",
    "3. When would you likely use an octomap instead of a point cloud?\n",
    " "
   ]
  },
  {
   "cell_type": "code",
   "execution_count": null,
   "id": "9bb91283",
   "metadata": {},
   "outputs": [],
   "source": []
  },
  {
   "cell_type": "markdown",
   "id": "fcdd8a46",
   "metadata": {},
   "source": [
    "## b) Signed Distance Functions\n",
    "\n",
    "1. How do we determine object surfaces using SDF?\n",
    "2. How do we aggregate views from multiple cameras? (just a general overview is fine)\n",
    "3. Which preserves details better? Voxels or SDF? Why?\n",
    "4. What’s an advantage of SDF over a point cloud?\n"
   ]
  },
  {
   "cell_type": "code",
   "execution_count": null,
   "id": "1f960e54",
   "metadata": {},
   "outputs": [],
   "source": []
  },
  {
   "cell_type": "markdown",
   "id": "c3ed4cb3",
   "metadata": {},
   "source": [
    "# References and Resources\n",
    "\n",
    "1. Gimbal locks and quaternions: https://youtu.be/YF5ZUlKxSgE\n",
    "2. Exponential map: \n",
    "    1. 3 Blue 1 Brown: https://youtu.be/O85OWBJ2ayo\n",
    "    2. Northwestern Robotics: https://youtu.be/v_KBHaG0mas\n",
    "3. Bunny ply is taken from: http://graphics.im.ntu.edu.tw/~robin/courses/cg03/model/"
   ]
  }
 ],
 "metadata": {
  "kernelspec": {
   "display_name": "Python 3",
   "language": "python",
   "name": "python3"
  },
  "language_info": {
   "codemirror_mode": {
    "name": "ipython",
    "version": 3
   },
   "file_extension": ".py",
   "mimetype": "text/x-python",
   "name": "python",
   "nbconvert_exporter": "python",
   "pygments_lexer": "ipython3",
   "version": "3.8.10"
  }
 },
 "nbformat": 4,
 "nbformat_minor": 5
}
