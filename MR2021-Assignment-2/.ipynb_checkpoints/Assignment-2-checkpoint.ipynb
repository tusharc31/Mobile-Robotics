{
 "cells": [
  {
   "cell_type": "markdown",
   "id": "e2e806d4",
   "metadata": {},
   "source": [
    "# Assignment - 2: Data Representation and Point Cloud Operations\n",
    "\n",
    "Team Name: Bhagwaan Bharose\n",
    "\n",
    "Roll number: 2019111019, 2019111026"
   ]
  },
  {
   "cell_type": "markdown",
   "id": "1e42e4d4",
   "metadata": {},
   "source": [
    "# Instructions\n",
    "\n",
    "- Code must be written in Python in Jupyter Notebooks. We highly recommend using anaconda distribution or at the minimum, virtual environments for this assignment.\n",
    "- Save all your results in ```results/<question_number>/<sub_topic_number>/```\n",
    "- The **References** section provides you with important resources to solve the assignment.\n",
    "- Make sure your code is modular since you may need to reuse parts for future assignments.\n",
    "- Answer the descriptive questions in your own words with context & clarity. Do not copy answers from online resources or lecture notes.\n",
    "- The **deadline** for this assignment is on 26/09/2021 at 11:55pm. Please note that there will be no extensions.\n",
    "- Plagiarism is **strictly prohibited**."
   ]
  },
  {
   "cell_type": "markdown",
   "id": "bb6ccd58",
   "metadata": {},
   "source": [
    "# Submission Instructions\n",
    "\n",
    "1. Make sure your code runs without any errors after reinitializing the kernel and removing all saved variables.\n",
    "2. After completing your code and saving your results, zip the folder with name as ``Team_<team_name>_MR2021_Assignment_<assignment_number>.zip``"
   ]
  },
  {
   "cell_type": "code",
   "execution_count": 9,
   "id": "b40d245c",
   "metadata": {
    "scrolled": true
   },
   "outputs": [],
   "source": [
    "import numpy as np\n",
    "import matplotlib.pyplot as plt\n",
    "import cv2\n",
    "import open3d as o3d"
   ]
  },
  {
   "cell_type": "markdown",
   "id": "1f85262a",
   "metadata": {},
   "source": [
    "# Introduction to types of Transformations and Homogeneous coordinates\n",
    "\n",
    "In robotics applications, it is inevitable to keep track of the frames of multiple objects/worlds. These frames can be transformations from one coordinate frame to the other. **Homogeneous coordinates** help in keeping track of various coordinate frames and allow performing composition of various transforms. We will first try to understand between types of transformations and their invariant properties.\n",
    "1. What is the difference between Affine, Similarity, and Euclidean transform? What are the invariant properities of each type of transform?\n",
    "2. Watch this [video](https://www.youtube.com/watch?v=PvEl63t-opM) to briefly understand homogeneous coordinates. What are points at infinity? What type of transformation can you apply to transform a point from infinity to a point that is not at infinity? \n",
    "3. Using homogeneous coordinates we can represent different types of transformation as point transforms vs. frame transforms. Concatenation of transforms (whether you post multiply transformation matrices or pre-multiply transformation matrices) depends on the problem and how you are viewing it. Try to understand the difference between frame vs. point transformations from this [video](https://youtu.be/Za7Sdegf8m8?t=1834). Let's assume that our camera and world frames are coinciding with each other. We need to estimate the camera to world **frame** transformation matrix after applying the transformations defined below in terms of $T_i$.We apply **frame** transform to move the camera in the world in the following order:\n",
    "    1. $T_1$ from the camera coordinate frame.\n",
    "    2. $T_2$ from the world coordinate frame.\n",
    "    3. $T_3$ from the world coordinate frame.\n",
    "    4. $T_4$ from the camera coordinate frame.\n",
    "    5. $T_5$ from the camera coordinate frame.\n"
   ]
  },
  {
   "cell_type": "markdown",
   "id": "9214a686",
   "metadata": {},
   "source": [
    "**Question 1**   \n",
    "  \n",
    "**Question 2**   \n",
    "Point infinitively far away  \n",
    "\n",
    "**Question 3**   "
   ]
  },
  {
   "cell_type": "markdown",
   "id": "e5f08d84",
   "metadata": {},
   "source": [
    "# Visualise the Data\n",
    "\n",
    "Point clouds are a collection of points that represent a 3D shape or feature. Each point has its own set of X, Y and Z coordinates and in some cases additional attributes. A popular way to obtain this is by photogrammetry, though here we will use LiDAR data.\n",
    "\n",
    "LiDAR is a remote sensing process which collects measurements used to create 3D models and maps of objects and environments. Using ultraviolet, visible, or near-infrared light, LiDAR gauges spatial relationships and shapes by measuring the time it takes for signals to bounce off objects and return to the scanner.\n",
    "\n",
    "1. Download the data from [here](https://iiitaphyd-my.sharepoint.com/:f:/g/personal/venkata_surya_students_iiit_ac_in/EnYAMaTVIhJItzKYqtahE30BRKB6p6UfHN3TyJzvo6Mw0g?e=PegWds). It contains the LIDAR sensor output and odometry information per frame.\n",
    "\n",
    "    The .bin files contain the 3D point cloud captured by the LIDAR in this format - x, y, z, and reflectance. \n",
    "\n",
    "    The odometry information is given in the `odometry.txt` file, which is a 12 element vector. Reshape each of the first 77 rows to a 3x4 matrix to obtain the pose.\n",
    "    \n",
    "\n",
    "2. Obtain the point cloud from this and visualise for 1-2 frames."
   ]
  },
  {
   "cell_type": "code",
   "execution_count": 5,
   "id": "285c5ce7",
   "metadata": {},
   "outputs": [],
   "source": [
    "def readPointCloud(filename):\n",
    "    pcl = np.fromfile(filename, dtype=np.float32,count=-1)\n",
    "    pcl = pcl.reshape([-1,4])\n",
    "    return pcl "
   ]
  },
  {
   "cell_type": "code",
   "execution_count": 6,
   "id": "9c1cfe4e",
   "metadata": {},
   "outputs": [],
   "source": [
    "def getPose(point_ind):\n",
    "    ground_truth = np.loadtxt(\"./data/odometry.txt\")\n",
    "    T = ground_truth[point_ind][:]\n",
    "    T = np.reshape(T, (3,4))\n",
    "    b = np.array([0,0,0,1])\n",
    "    T = np.vstack ((T,b)) \n",
    "    return T"
   ]
  },
  {
   "cell_type": "code",
   "execution_count": 30,
   "id": "2c78994a",
   "metadata": {},
   "outputs": [],
   "source": [
    "# Enter frame numbers between 0 to 76 in the array below to visualize\n",
    "frame_numbers = [0]\n",
    "\n",
    "pcd_net = o3d.geometry.PointCloud()\n",
    "pcd_all = []\n",
    "\n",
    "for i in range(77):\n",
    "    file = \"./data/LiDAR/\" + str(i+10).zfill(6) + \".bin\"\n",
    "    pcd = readPointCloud(file)\n",
    "    pcd = np.hstack((pcd[:,:3],np.ones((len(pcd),1))))\n",
    "    pcd_all.append(pcd)                      # Gathering all point cloud data\n",
    "    if i in frame_numbers: \n",
    "        poses = np.dot(np.asarray(pcd),getPose(i).T)\n",
    "        pcd = o3d.geometry.PointCloud()\n",
    "        pcd.points = o3d.utility.Vector3dVector(poses[:,:3])\n",
    "        pcd_net += pcd\n",
    "        \n",
    "downpcd = pcd_net.voxel_down_sample(voxel_size=1)\n",
    "o3d.visualization.draw_geometries([downpcd]) # Visualizing for all frames in frame_numbers"
   ]
  },
  {
   "cell_type": "markdown",
   "id": "hairy-riverside",
   "metadata": {},
   "source": [
    "# Transform \n",
    "\n",
    "The point cloud obtained is with respect to the LiDAR frame. The poses however, are in the camera frame. If we want to combine the point clouds from various frames, we need to bring them to the camera frame. \n",
    "\n",
    "1. Refer to the image below and apply the required transformation to the point cloud. \n",
    "\n",
    "2. Then, register all point clouds into a common reference frame and visualise it (Open3D). It is helpful to use homogeneous coordinates to keep track of the different frames.\n",
    "\n",
    "3. Write a function to transform the registered point cloud from the world to the $i^{th}$ camera frame, wherein $i$ is the input to the function.\n",
    "\n",
    "4. \\[Bonus\\] Move around in the registered point cloud using arrow keys like you would do in a game. For this you will have to regularly transform the entire registered world to your current camera frame and visualize repeatedly. You may choose to avoid visualizing points that are behind the camera in this case as they are not visible from the scene. You may also visualize points at a max depth to make the process easier.\n",
    "\n",
    "![](./img/transform.png)"
   ]
  },
  {
   "cell_type": "code",
   "execution_count": 31,
   "id": "second-school",
   "metadata": {},
   "outputs": [],
   "source": [
    "def commonframe_trans(point_ind):\n",
    "    pcd = pcd_all[point_ind]\n",
    "    lidar_to_cam = np.array([[0,-1,0,0],[0,0,-1,0],[1,0,0,0],[0,0,0,1]])\n",
    "    poses = np.dot(np.asarray(pcd),lidar_to_cam.T)    # transforming from lidar to camera frame i\n",
    "    poses = np.dot(poses,getPose(point_ind).T)        # Registering to common frame\n",
    "    return poses\n",
    "\n",
    "pcd_net = o3d.geometry.PointCloud()\n",
    "c0_points = []\n",
    "\n",
    "for i in range(0,77):\n",
    "    poses = commonframe_trans(i)\n",
    "    c0_points.append(poses)\n",
    "    pcd = o3d.geometry.PointCloud()\n",
    "    pcd.points = o3d.utility.Vector3dVector(poses[:,:3])\n",
    "    pcd_net += pcd\n",
    "downpcd = pcd_net.voxel_down_sample(voxel_size=1)\n",
    "o3d.visualization.draw_geometries([downpcd])          # Visualizing all points in common frame\n",
    "\n",
    "\n",
    "def cameraframe_trans(point_ind, i):                  # Function to take points to ith frame\n",
    "    poses = c0_points[point_ind]\n",
    "    poses = np.dot(poses,getPose(i))\n",
    "    return poses\n",
    "\n",
    "ggez = []\n",
    "frame_index = 76                                      # Set frame number in which you want to visualize\n",
    "pcd_net = o3d.geometry.PointCloud()\n",
    "\n",
    "for i in range(0,77):\n",
    "    poses = cameraframe_trans(i, frame_index)\n",
    "    ggez.append(poses)\n",
    "    pcd = o3d.geometry.PointCloud()\n",
    "    pcd.points = o3d.utility.Vector3dVector(poses[:,:3])\n",
    "    pcd_net += pcd\n",
    "downpcd = pcd_net.voxel_down_sample(voxel_size=1)\n",
    "o3d.visualization.draw_geometries([downpcd])          # Visualizing all points in that frame"
   ]
  },
  {
   "cell_type": "markdown",
   "id": "personal-divorce",
   "metadata": {},
   "source": [
    "# Occupancy Map"
   ]
  },
  {
   "cell_type": "markdown",
   "id": "overhead-discussion",
   "metadata": {},
   "source": [
    "Occupancy grid maps are discrete fine grain grid maps. These maps can be either 2-D or 3-D. Each cell in the occupancy grid map contains information on the physical objects present in the corresponding space. Since these maps shed light on what parts of the environment are occupied, and what is not, they are really useful for path planning and navigation.\n",
    "\n",
    "Occupancy grid maps are probabilistic in nature due to noisy measurements. Each cell can have three states: Occupied, unoccupied, and unknown. For the purpose of this assignment, you can ignore the unknown and work in a binary setting where 1 is occupied and 0 is unoccupied."
   ]
  },
  {
   "cell_type": "markdown",
   "id": "rental-display",
   "metadata": {},
   "source": [
    "1. The task here is to create an occupancy map for each LiDAR scan. You do not need to apply bayesian update rules here, just keep it simple. \n",
    "\n",
    "2. Now, using the *registered* point cloud, generate occupancy maps for each frame. What difference do you expect to see between the two methods?\n",
    "\n",
    "You can mark a cell as occupied based on a threshold of how many different z values are there for a particular (x,y) cell."
   ]
  },
  {
   "cell_type": "code",
   "execution_count": 71,
   "id": "collected-oklahoma",
   "metadata": {},
   "outputs": [],
   "source": [
    "# The task here is to create an occupancy map for each LiDAR scan. \n",
    "# You do not need to apply bayesian update rules here, just keep it simple. \n",
    "\n",
    "# Approach used - \n",
    "\n",
    "\n",
    "import pandas as pd\n",
    "\n",
    "def points_in_betterview(point_ind):\n",
    "    pcd = pcd_all[point_ind]\n",
    "    lidar_to_cam = np.array([[0,-1,0,0],[0,0,-1,0],[1,0,0,0],[0,0,0,1]])\n",
    "    poses = np.dot(np.asarray(pcd),lidar_to_cam.T)\n",
    "    poses = np.dot(poses,getPose(point_ind).T)\n",
    "    better_view = np.array([[0,0,1,0],[-1,0,0,0],[0,-1,0,0],[0,0,0,1]])\n",
    "    poses = np.dot(poses,better_view.T)\n",
    "    return poses\n",
    "\n",
    "def get_scan(i):\n",
    "    pcd = o3d.geometry.PointCloud()\n",
    "    poses = points_in_betterview(i)\n",
    "    pcd.points = o3d.utility.Vector3dVector(poses[:,:3])\n",
    "    pcd1 = np.round(np.asarray(pcd.points))\n",
    "    pcd_df = pd.DataFrame(data=pcd1,columns=['x','y','z'])\n",
    "    pcd_df.drop_duplicates(subset = [\"y\",\"x\",\"z\"],inplace=True)\n",
    "    pts = pcd_df.groupby(['x','y']).count().index\n",
    "    counts = pcd_df.groupby(['x','y']).count()\n",
    "    pcd_new = pd.DataFrame({'pts':pts.values,'count':counts['z']})\n",
    "    pcd_new.reset_index(drop=True,inplace=True)\n",
    "    pts_array = pcd_new['pts'].values\n",
    "    img = np.zeros((400,400,1), np.uint8)\n",
    "    for j in range(len(pts_array)):\n",
    "        ind = (pts_array[j][0] + 200,pts_array[j][1]+ 200)\n",
    "        county = pcd_new.iloc[j,1]\n",
    "        if (county>1):\n",
    "            img[int(ind[0])][int(ind[1])] = 1\n",
    "    return img\n",
    "\n",
    "for frame in range(77):\n",
    "    scan_i = get_scan(frame)\n",
    "    scan_i = cv2.resize(scan_i,(700,700))\n",
    "    scan_name = './results/grid_'+str(frame+10)+'.png'\n",
    "    im = cv2.imwrite(scan_name,scan_i.T*255)               # Resulting images are stored in the folder result"
   ]
  },
  {
   "cell_type": "code",
   "execution_count": 72,
   "id": "91ab4980",
   "metadata": {},
   "outputs": [],
   "source": [
    "# Now, using the registered point cloud, generate occupancy maps for each frame. \n",
    "# What difference do you expect to see between the two methods?\n",
    "\n",
    "b_view = []\n",
    "better_view = np.array([[0,0,1,0],[-1,0,0,0],[0,-1,0,0],[0,0,0,1]])\n",
    "\n",
    "def get_combined_scan():\n",
    "    poses = b_view[0]\n",
    "    pcd = o3d.geometry.PointCloud()\n",
    "    pcd.points = o3d.utility.Vector3dVector(poses[:,:3])\n",
    "    pcd1 = np.round(np.asarray(pcd.points))\n",
    "    pcd_df = pd.DataFrame(data=pcd1,columns=['x','y','z'])\n",
    "    pcd_df.drop_duplicates(subset = [\"y\",\"x\",\"z\"],inplace=True)\n",
    "    pts = pcd_df.groupby(['x','y']).count().index\n",
    "    counts = pcd_df.groupby(['x','y']).count()\n",
    "    pcd_new = pd.DataFrame({'pts':pts.values,'count':counts['z']})\n",
    "    pcd_new.reset_index(drop=True,inplace=True)\n",
    "    pts_array = pcd_new['pts'].values\n",
    "    img = np.zeros((400,400,1), np.uint8)\n",
    "    for j in range(len(pts_array)):\n",
    "        ind = (pts_array[j][0] + 200,pts_array[j][1]+ 200)\n",
    "        county = pcd_new.iloc[j,1]\n",
    "        if (county>1):\n",
    "            img[int(ind[0])][int(ind[1])] = 1\n",
    "    return img\n",
    "\n",
    "for i in range(77): b_view.append(np.dot(c0_points[i], better_view.T))\n",
    "for i in range(1,77): b_view[0]=np.vstack((b_view[0], b_view[i]))\n",
    "    \n",
    "registered_img = get_combined_scan()\n",
    "registered_img = cv2.resize(registered_img,(700,700))\n",
    "filename = './results/registered_grid.png'\n",
    "im = cv2.imwrite(filename,registered_img.T*255)            # Resulting image is stored in the folder result"
   ]
  },
  {
   "cell_type": "markdown",
   "id": "ec7ea789",
   "metadata": {},
   "source": [
    "**Difference expected in the results for part 1 and part 2**  \n",
    "Since the result of part 2 uses lidar scans of all frames, hence a map covering larger area was expected (as the car is moving). Also since now there is possibility of having multiple z for a pair of (x,y), hence the map is expected to more dense in terms of occupancy than just merging all the 77 images of the last part."
   ]
  },
  {
   "cell_type": "code",
   "execution_count": null,
   "id": "56375f3c",
   "metadata": {},
   "outputs": [],
   "source": []
  }
 ],
 "metadata": {
  "kernelspec": {
   "display_name": "Python 3",
   "language": "python",
   "name": "python3"
  },
  "language_info": {
   "codemirror_mode": {
    "name": "ipython",
    "version": 3
   },
   "file_extension": ".py",
   "mimetype": "text/x-python",
   "name": "python",
   "nbconvert_exporter": "python",
   "pygments_lexer": "ipython3",
   "version": "3.7.9"
  }
 },
 "nbformat": 4,
 "nbformat_minor": 5
}
